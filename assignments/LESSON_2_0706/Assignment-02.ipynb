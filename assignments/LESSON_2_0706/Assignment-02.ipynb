{
 "cells": [
  {
   "cell_type": "markdown",
   "metadata": {},
   "source": [
    "## Assignments for Week-02"
   ]
  },
  {
   "cell_type": "markdown",
   "metadata": {},
   "source": [
    "In this course, we learnt what's the search problem and what's the machine leanring. In this assignment, we need you do some more practice."
   ]
  },
  {
   "cell_type": "markdown",
   "metadata": {},
   "source": [
    "### 1. Re-code the house price machine learning\n",
    "\n",
    "###### 1. Random Choose Method to get optimal *k* and *b*\n",
    "###### 2.Supervised Direction to get optimal *k* and *b*\n",
    "###### 3.Gradient Descent to get optimal *k* and *b*\n",
    "###### 4. Try different Loss function and learning rate. \n",
    "\n",
    "For example, you can change the loss function: $Loss = \\frac{1}{n} sum({y_i - \\hat{y_i}})^2$ to $Loss = \\frac{1}{n} sum(|{y_i - \\hat{y_i}}|)$\n",
    "\n",
    "And you can change the learning rate and observe the performance."
   ]
  },
  {
   "cell_type": "code",
   "execution_count": 8,
   "metadata": {
    "scrolled": true
   },
   "outputs": [
    {
     "data": {
      "text/plain": [
       "<matplotlib.collections.PathCollection at 0xa317a58>"
      ]
     },
     "execution_count": 8,
     "metadata": {},
     "output_type": "execute_result"
    },
    {
     "data": {
      "image/png": "[encoded data removed]",
      "text/plain": [
       "<Figure size 432x288 with 1 Axes>"
      ]
     },
     "metadata": {
      "needs_background": "light"
     },
     "output_type": "display_data"
    }
   ],
   "source": [
    "from sklearn.datasets import load_boston\n",
    "import matplotlib.pyplot as plt\n",
    "import random\n",
    "\n",
    "\n",
    "#1. Re-code the house price machine learning\n",
    "data = load_boston()\n",
    "X, y = data['data'], data['target']\n",
    "\n",
    "def draw_rm_and_price():\n",
    "    plt.scatter(X[:, 5], y)\n",
    "    #plt.show()\n",
    "\n",
    "def price(rm, k, b):\n",
    "    '''f(x) = k * x + b'''\n",
    "    return k * rm + b\n",
    "\n",
    "\n",
    "X_rm = X[:, 5]\n",
    "k = random.randint(-100, 100)\n",
    "b = random.randint(-100, 100)\n",
    "price_by_random_k_and_b = [price(r, k, b) for r in X_rm]\n",
    "\n",
    "draw_rm_and_price()\n",
    "\n",
    "%matplotlib inline\n",
    "import random\n",
    "def price(rm, k, b):\n",
    "    \"\"\"f(x) = k * x + b\"\"\"\n",
    "    return k * rm + b  \n",
    "X_rm = X[:, 5]\n",
    "k = random.randint(-100, 100)\n",
    "b = random.randint(-100, 100)\n",
    "price_by_random_k_and_b = [price(r, k, b) for r in X_rm]\n",
    "\n",
    "draw_rm_and_price()\n",
    "plt.scatter(X_rm, price_by_random_k_and_b)"
   ]
  },
  {
   "cell_type": "code",
   "execution_count": 3,
   "metadata": {},
   "outputs": [
    {
     "data": {
      "text/plain": [
       "<matplotlib.collections.PathCollection at 0xa34c780>"
      ]
     },
     "execution_count": 3,
     "metadata": {},
     "output_type": "execute_result"
    },
    {
     "data": {
      "image/png": "[encoded data removed]",
      "text/plain": [
       "<Figure size 432x288 with 1 Axes>"
      ]
     },
     "metadata": {
      "needs_background": "light"
     },
     "output_type": "display_data"
    }
   ],
   "source": [
    "#1. Random Choose Method to get optimal k* and *b\n",
    "\n",
    "%matplotlib inline\n",
    "def loss(y, y_hat):\n",
    "    return sum((y_i - y_hat_i) ** 2 for y_i, y_hat_i in zip(list(y), list(y_hat))) / len(list(y))\n",
    "\n",
    "def method_1(X_rm):\n",
    "    trying_times = 1000\n",
    "    min_loss = float('inf')\n",
    "\n",
    "    best_k = float('inf')\n",
    "    best_b = float('inf')\n",
    "\n",
    "\n",
    "    for i in range(trying_times):\n",
    "        k = random.random() * 200 - 100\n",
    "        b = random.random() * 200 - 100\n",
    "        price_by_random_k_and_b = [price(r, k, b) for r in X_rm]\n",
    "        current_loss = loss(y, price_by_random_k_and_b)\n",
    "\n",
    "        if current_loss < min_loss:\n",
    "            min_loss = current_loss\n",
    "            best_k, best_b = k, b\n",
    "            print('time is: {}, best_k: {}, best_b: {}, loss is {}'.format(i, best_k, best_b, min_loss))\n",
    "\n",
    "    X_rm = X[:5]\n",
    "\n",
    "    print(best_k, best_b)\n",
    "    draw_rm_and_price()\n",
    "    price_by_random_k_and_b = [price(r, best_k, best_b) for r in X_rm]\n",
    "    plt.scatter(X_rm, price_by_random_k_and_b)\n",
    "\n",
    "            \n",
    "    \n",
    "X_rm = X[:, 5]\n",
    "k = 15\n",
    "b = -68\n",
    "price_by_random_k_and_b = [price(r, k, b) for r in X_rm]\n",
    "\n",
    "draw_rm_and_price()\n",
    "plt.scatter(X_rm, price_by_random_k_and_b)"
   ]
  },
  {
   "cell_type": "code",
   "execution_count": 4,
   "metadata": {
    "scrolled": false
   },
   "outputs": [
    {
     "name": "stdout",
     "output_type": "stream",
     "text": [
      "time is: 0, get bset_k: 21.198749215900854, best_b: -76.12204513945278, and the loss is: 1310.8871633090075\n",
      "time is: 2, get bset_k: 21.098749215900853, best_b: -76.22204513945277, and the loss is: 1259.8625566882733\n",
      "time is: 3, get bset_k: 20.99874921590085, best_b: -76.32204513945277, and the loss is: 1209.9091219350123\n",
      "time is: 4, get bset_k: 20.89874921590085, best_b: -76.42204513945276, and the loss is: 1161.026859049218\n",
      "time is: 5, get bset_k: 20.79874921590085, best_b: -76.52204513945276, and the loss is: 1113.215768030898\n",
      "time is: 6, get bset_k: 20.698749215900847, best_b: -76.62204513945275, and the loss is: 1066.475848880046\n",
      "time is: 7, get bset_k: 20.598749215900845, best_b: -76.72204513945275, and the loss is: 1020.8071015966648\n",
      "time is: 8, get bset_k: 20.498749215900844, best_b: -76.82204513945274, and the loss is: 976.2095261807534\n",
      "time is: 9, get bset_k: 20.398749215900843, best_b: -76.92204513945273, and the loss is: 932.6831226323136\n",
      "time is: 10, get bset_k: 20.29874921590084, best_b: -77.02204513945273, and the loss is: 890.227890951344\n",
      "time is: 11, get bset_k: 20.19874921590084, best_b: -77.12204513945272, and the loss is: 848.8438311378437\n",
      "time is: 12, get bset_k: 20.09874921590084, best_b: -77.22204513945272, and the loss is: 808.5309431918149\n",
      "time is: 13, get bset_k: 19.998749215900837, best_b: -77.32204513945271, and the loss is: 769.2892271132566\n",
      "time is: 14, get bset_k: 19.898749215900835, best_b: -77.4220451394527, and the loss is: 731.1186829021678\n",
      "time is: 15, get bset_k: 19.798749215900834, best_b: -77.5220451394527, and the loss is: 694.0193105585491\n",
      "time is: 16, get bset_k: 19.698749215900833, best_b: -77.6220451394527, and the loss is: 657.9911100824019\n",
      "time is: 17, get bset_k: 19.59874921590083, best_b: -77.72204513945269, and the loss is: 623.0340814737243\n",
      "time is: 18, get bset_k: 19.49874921590083, best_b: -77.82204513945268, and the loss is: 589.1482247325173\n",
      "time is: 19, get bset_k: 19.39874921590083, best_b: -77.92204513945268, and the loss is: 556.3335398587805\n",
      "time is: 20, get bset_k: 19.298749215900827, best_b: -78.02204513945267, and the loss is: 524.5900268525141\n",
      "time is: 21, get bset_k: 19.198749215900826, best_b: -78.12204513945267, and the loss is: 493.91768571371824\n",
      "time is: 22, get bset_k: 19.098749215900824, best_b: -78.22204513945266, and the loss is: 464.3165164423927\n",
      "time is: 23, get bset_k: 18.998749215900823, best_b: -78.32204513945265, and the loss is: 435.7865190385372\n",
      "time is: 24, get bset_k: 18.89874921590082, best_b: -78.42204513945265, and the loss is: 408.32769350215204\n",
      "time is: 25, get bset_k: 18.79874921590082, best_b: -78.52204513945264, and the loss is: 381.9400398332376\n",
      "time is: 26, get bset_k: 18.69874921590082, best_b: -78.62204513945264, and the loss is: 356.6235580317936\n",
      "time is: 27, get bset_k: 18.598749215900817, best_b: -78.72204513945263, and the loss is: 332.3782480978198\n",
      "time is: 28, get bset_k: 18.498749215900816, best_b: -78.82204513945263, and the loss is: 309.20411003131636\n",
      "time is: 29, get bset_k: 18.398749215900814, best_b: -78.92204513945262, and the loss is: 287.1011438322835\n",
      "time is: 30, get bset_k: 18.298749215900813, best_b: -79.02204513945262, and the loss is: 266.0693495007206\n",
      "time is: 31, get bset_k: 18.19874921590081, best_b: -79.12204513945261, and the loss is: 246.1087270366282\n",
      "time is: 32, get bset_k: 18.09874921590081, best_b: -79.2220451394526, and the loss is: 227.21927644000644\n",
      "time is: 33, get bset_k: 17.99874921590081, best_b: -79.3220451394526, and the loss is: 209.40099771085477\n",
      "time is: 34, get bset_k: 17.898749215900807, best_b: -79.42204513945259, and the loss is: 192.65389084917345\n",
      "time is: 35, get bset_k: 17.798749215900806, best_b: -79.52204513945259, and the loss is: 176.97795585496277\n",
      "time is: 36, get bset_k: 17.698749215900804, best_b: -79.62204513945258, and the loss is: 162.37319272822214\n",
      "time is: 37, get bset_k: 17.598749215900803, best_b: -79.72204513945258, and the loss is: 148.83960146895205\n",
      "time is: 38, get bset_k: 17.4987492159008, best_b: -79.82204513945257, and the loss is: 136.37718207715224\n",
      "time is: 39, get bset_k: 17.3987492159008, best_b: -79.92204513945256, and the loss is: 124.98593455282271\n",
      "time is: 40, get bset_k: 17.2987492159008, best_b: -80.02204513945256, and the loss is: 114.66585889596375\n",
      "time is: 41, get bset_k: 17.198749215900797, best_b: -80.12204513945255, and the loss is: 105.41695510657502\n",
      "time is: 42, get bset_k: 17.098749215900796, best_b: -80.22204513945255, and the loss is: 97.23922318465681\n",
      "time is: 43, get bset_k: 16.998749215900794, best_b: -80.32204513945254, and the loss is: 90.13266313020881\n",
      "time is: 44, get bset_k: 16.898749215900793, best_b: -80.42204513945254, and the loss is: 84.09727494323113\n",
      "time is: 45, get bset_k: 16.79874921590079, best_b: -80.52204513945253, and the loss is: 79.1330586237239\n",
      "time is: 46, get bset_k: 16.69874921590079, best_b: -80.62204513945252, and the loss is: 75.24001417168718\n",
      "time is: 47, get bset_k: 16.59874921590079, best_b: -80.72204513945252, and the loss is: 72.41814158712064\n",
      "time is: 48, get bset_k: 16.498749215900787, best_b: -80.82204513945251, and the loss is: 70.6674408700245\n",
      "time is: 49, get bset_k: 16.398749215900786, best_b: -80.9220451394525, and the loss is: 69.98791202039881\n"
     ]
    }
   ],
   "source": [
    "#2.Supervised Direction to get optimal k* and *b¶\n",
    "trying_times = 2000\n",
    "min_loss = float('inf')\n",
    "\n",
    "best_k = random.random() * 200 - 100\n",
    "best_b = random.random() * 200 - 100\n",
    "\n",
    "direction = [(+1,-1), (+1,+1), (-1,-1), (-1,+1)]\n",
    "next_direction = random.choice(direction)\n",
    "scalar = 0.1\n",
    "for i in range(trying_times):\n",
    "\n",
    "    k_direction, b_direction = next_direction\n",
    "    current_k, current_b = best_k + k_direction * scalar, best_b + k_direction * scalar\n",
    "    price_by_k_and_b = [price(r, current_k, current_b) for r in X_rm]\n",
    "    current_loss = loss(y, price_by_k_and_b)\n",
    "\n",
    "    if current_loss < min_loss:\n",
    "        min_loss = current_loss\n",
    "        best_k, best_b = current_k, current_b\n",
    "        next_direction = next_direction\n",
    "        print('time is: {}, get bset_k: {}, best_b: {}, and the loss is: {}'.format(i, best_k, best_b, min_loss))\n",
    "    else:\n",
    "        next_direction = random.choice(direction)\n",
    "\n"
   ]
  },
  {
   "cell_type": "code",
   "execution_count": 7,
   "metadata": {},
   "outputs": [
    {
     "name": "stdout",
     "output_type": "stream",
     "text": [
      "time is: 0, best_k: -20.999143328406426, best_b: 64.00552424362351, and the loss is: 8680.1333725639\n",
      "time is: 100, best_k: -20.91295875147605, best_b: 64.56135175967253, and the loss is: 8480.145453624948\n",
      "time is: 200, best_k: -20.825724339480352, best_b: 65.12408648249826, and the loss is: 8280.157833844429\n",
      "time is: 300, best_k: -20.737400630036987, best_b: 65.69399159893138, and the loss is: 8080.1705284155405\n",
      "time is: 400, best_k: -20.647945621093356, best_b: 66.27134742249548, and the loss is: 7880.183553719148\n",
      "time is: 500, best_k: -20.557314535836465, best_b: 66.85645299422883, and the loss is: 7680.196927450818\n",
      "time is: 600, best_k: -20.46545955884373, best_b: 67.44962788106905, and the loss is: 7480.210668765551\n",
      "time is: 700, best_k: -20.372329539052323, best_b: 68.05121420243067, and the loss is: 7280.224798442575\n",
      "time is: 800, best_k: -20.27786965429732, best_b: 68.66157892137971, and the loss is: 7080.239339074603\n",
      "time is: 900, best_k: -20.18202103115758, best_b: 69.28111644387644, and the loss is: 6880.254315284971\n",
      "time is: 1000, best_k: -20.084720312605977, best_b: 69.91025157825486, and the loss is: 6680.269753978713\n",
      "time is: 1100, best_k: -19.98589916442337, best_b: 70.54944291787918, and the loss is: 6480.285684633319\n",
      "time is: 1200, best_k: -19.885483709424577, best_b: 71.19918672333374, and the loss is: 6280.302139637672\n",
      "time is: 1300, best_k: -19.78339387615053, best_b: 71.86002139733745, and the loss is: 6080.3191546883845\n",
      "time is: 1400, best_k: -19.679542645661687, best_b: 72.5325326668334, and the loss is: 5880.336769256231\n",
      "time is: 1500, best_k: -19.573835176232095, best_b: 73.21735961376883, and the loss is: 5680.355027137666\n",
      "time is: 1600, best_k: -19.466167780830524, best_b: 73.91520173080103, and the loss is: 5480.373977111035\n",
      "time is: 1700, best_k: -19.356426725929886, best_b: 74.62682722310626, and the loss is: 5280.393673721896\n",
      "time is: 1800, best_k: -19.244486811914285, best_b: 75.3530828361632, and the loss is: 5080.414178229779\n",
      "time is: 1900, best_k: -19.130209684465072, best_b: 76.0949055668191, and the loss is: 4880.435559757439\n"
     ]
    }
   ],
   "source": [
    "#3.Gradient Descent to get optimal k* and *b\n",
    "\n",
    "def method_3():\n",
    "    trying_times = 2000\n",
    "    min_loss = float('inf')\n",
    "\n",
    "    ct = 0\n",
    "    step = 0.2\n",
    "    k = random.randint(-100, 100)\n",
    "    b = random.randint(-100 , 100)\n",
    "\n",
    "    success_count = 0\n",
    "    for i in range(trying_times):\n",
    "        delta_k = 0\n",
    "        delta_b = 0\n",
    "\n",
    "        for x_, y_ in zip(list(X_rm), list(y)):\n",
    "            #print(x, y)  求导\n",
    "\n",
    "            delta_k += (2 * x_ * x_ * k + 2 * b * x_ -2 * x_ * y_)/len(y)\n",
    "            delta_b += (2 *b + 2 * x_ * k - 2 * y_)/len(y)\n",
    "\n",
    "\n",
    "\n",
    "        k = k - delta_k/2000\n",
    "        b = b - delta_b/2000\n",
    "\n",
    "\n",
    "        price_by_k_and_b = [price(r, k, b) for r in X_rm]\n",
    "        current_loss = loss(y, price_by_k_and_b)\n",
    "\n",
    "        if current_loss < min_loss:\n",
    "\n",
    "            min_loss = current_loss\n",
    "            #print(delta_k, delta_b)\n",
    "            if ct % 100 == 0:\n",
    "                print('time is: {}, best_k: {}, best_b: {}, and the loss is: {}'.format(i,k, b, min_loss))\n",
    "\n",
    "        ct += 1\n",
    "\n",
    "method_3()"
   ]
  },
  {
   "cell_type": "markdown",
   "metadata": {},
   "source": [
    "![](https://timgsa.baidu.com/timg?image&quality=80&size=b9999_10000&sec=1562414412237&di=8377c38d7b50c6f8d45b92ccc78dc1e7&imgtype=0&src=http%3A%2F%2Fmmbiz.qpic.cn%2Fmmbiz_jpg%2FlSyiavfm6wPgQDuDYa42IMgSkLOcPJU91RbkMibGy7VHLrhhNVLibTYk1iaLcmXKTdHc4icTDVia59QFXwqpW8cLflaw%2F640%3Fwx_fmt%3Djpeg)"
   ]
  },
  {
   "cell_type": "markdown",
   "metadata": {},
   "source": [
    "## 2. Answer following questions:\n",
    "\n",
    "\n",
    "###### 1. Why do we need machine learning methods instead of creating a complicated formula?\n"
   ]
  },
  {
   "cell_type": "markdown",
   "metadata": {},
   "source": [
    "Ans:自动化高效；精准"
   ]
  },
  {
   "cell_type": "markdown",
   "metadata": {},
   "source": [
    "###### 2.  Wha't's the disadvantages of `the 1st Random Choosen` methods in our course? "
   ]
  },
  {
   "cell_type": "markdown",
   "metadata": {},
   "source": [
    "Ans:因随机的计算导致耗时长，最后也不一定是最优解"
   ]
  },
  {
   "cell_type": "markdown",
   "metadata": {},
   "source": [
    "###### 3. Is the `2nd method supervised direction` better than 1st one?  What's the disadvantages of `the 2nd supversied directin` method? "
   ]
  },
  {
   "cell_type": "markdown",
   "metadata": {},
   "source": [
    "Ans:有方向性的解法比第一种好；缺点是方向性和步长不变导致求解的速度慢"
   ]
  },
  {
   "cell_type": "markdown",
   "metadata": {},
   "source": [
    "###### 4. Why do we use `Derivative / Gredient` to fit a target function? "
   ]
  },
  {
   "cell_type": "markdown",
   "metadata": {},
   "source": [
    "Ans:快速精准求解"
   ]
  },
  {
   "cell_type": "markdown",
   "metadata": {},
   "source": [
    "###### 5. In the words 'Gredient Descent', what's the `Gredient` and what's the `Descent`?"
   ]
  },
  {
   "cell_type": "markdown",
   "metadata": {},
   "source": [
    "Ans:梯度下降；梯度：对一个函数中的各个向量做偏导数，以向量的方式呈现就是梯度；梯度下降：损失函数的最小值；梯度上升：损失函数的最大值"
   ]
  },
  {
   "cell_type": "markdown",
   "metadata": {},
   "source": [
    "###### 6. What's the advantages of `the 3rd gradient descent method` compared to the previous methods?"
   ]
  },
  {
   "cell_type": "markdown",
   "metadata": {},
   "source": [
    "Ans:速度快，精准"
   ]
  },
  {
   "cell_type": "markdown",
   "metadata": {},
   "source": [
    "###### 7. Using the simple words to describe: What's the machine leanring."
   ]
  },
  {
   "cell_type": "markdown",
   "metadata": {},
   "source": [
    "Ans:给定条件让机器自动化求解"
   ]
  },
  {
   "cell_type": "markdown",
   "metadata": {},
   "source": [
    "## 3. Finish the search problem"
   ]
  },
  {
   "cell_type": "markdown",
   "metadata": {},
   "source": [
    "Please using the search policy to implement an agent. This agent receives two input, one is @param start station and the other is @param destination. Your agent should give the optimal route based on Beijing Subway system. "
   ]
  },
  {
   "cell_type": "markdown",
   "metadata": {},
   "source": [
    "> Deadline: 2019-July-13\n",
    "\n",
    ">Submit: Submit the source code and result to github. \n",
    "\n"
   ]
  },
  {
   "cell_type": "markdown",
   "metadata": {},
   "source": [
    "![](https://timgsa.baidu.com/timg?image&quality=80&size=b9999_10000&sec=1562414356407&di=b57814aafd215bb8b8d9d8cd37c573d6&imgtype=0&src=http%3A%2F%2Fcli.clewm.net%2Ffile%2F2015%2F03%2F24%2F174ed60082b8422ac0636cfd3efb9e7f.jpg)"
   ]
  },
  {
   "cell_type": "markdown",
   "metadata": {},
   "source": [
    "#### Dataflow: "
   ]
  },
  {
   "cell_type": "markdown",
   "metadata": {},
   "source": [
    "##### 1.\tGet data from web page.\n",
    "\n",
    "> a.\tGet web page source from: https://baike.baidu.com/item/%E5%8C%97%E4%BA%AC%E5%9C%B0%E9%93%81/408485\n",
    "\n",
    "> b.\tYou may need @package **requests**[https://2.python-requests.org/en/master/] page to get the response via url\n",
    "\n",
    "> c.\tYou may need save the page source to file system.\n",
    "\n",
    "> d.\tThe target of this step is to get station information of all the subway lines;\n",
    "\n",
    "> e.\tYou may need install @package beautiful soup[https://www.crummy.com/software/BeautifulSoup/bs4/doc/]  to get the url information, or just use > Regular Expression to get the url.  Our recommendation is that using the Regular Expression and BeautiflSoup both. \n",
    "\n",
    "> f.\tYou may need BFS to get all the related page url from one url. \n",
    "Question: Why do we use BFS to traverse web page (or someone said, build a web spider)?  Can DFS do this job? which is better? "
   ]
  },
  {
   "cell_type": "markdown",
   "metadata": {},
   "source": [
    "##### 2.\tPreprocessing data from page source.\n",
    "\n",
    "> a.\tBased on the page source gotten from url. You may need some more preprocessing of the page. \n",
    "\n",
    "> b.\tthe Regular Expression you may need to process the text information.\n",
    "\n",
    "> c.\tYou may need @package networkx, @package matplotlib to visualize data. \n",
    "\n",
    "> d.\tYou should build a dictionary or graph which could represent the connection information of Beijing subway routes. \n",
    "\n",
    "> e.\tYou may need the defaultdict, set data structures to implement this procedure. "
   ]
  },
  {
   "cell_type": "markdown",
   "metadata": {},
   "source": [
    "##### 3. Build the search agent\n",
    "\n",
    "> Build the search agent based on the graph we build.\n",
    "\n",
    "for example, when you run: \n",
    "\n",
    "```python\n",
    ">>> search('奥体中心', '天安门') \n",
    "```\n",
    "you need get the result: \n",
    "\n",
    "奥体中心-> A -> B -> C -> ... -> 天安门\n",
    "\n"
   ]
  },
  {
   "cell_type": "code",
   "execution_count": 9,
   "metadata": {},
   "outputs": [
    {
     "name": "stdout",
     "output_type": "stream",
     "text": [
      "北京地铁1号线\n",
      "北京地铁13号线\n",
      "北京地铁八通线\n",
      "北京地铁5号线\n",
      "北京地铁8号线\n",
      "北京地铁10号线\n",
      "北京地铁机场线\n",
      "北京地铁4号线\n",
      "北京地铁15号线\n",
      "北京地铁昌平线\n",
      "北京地铁大兴线\n",
      "北京地铁房山线\n",
      "北京地铁亦庄线\n",
      "北京地铁9号线\n",
      "北京地铁6号线\n",
      "北京地铁14号线\n",
      "北京地铁7号线\n",
      "北京地铁16号线\n",
      "北京地铁西郊线\n",
      "北京地铁S1线\n",
      "北京地铁燕房线\n",
      "北京地铁2号线\n",
      "['西单', '灵境胡同', '西四', '平安里', '北海北', '南锣鼓巷', '中国美术馆']\n"
     ]
    }
   ],
   "source": [
    "# -*- coding:utf-8 -*-\n",
    "\n",
    "from bs4 import BeautifulSoup\n",
    "import requests, re, urllib, time\n",
    "from collections import defaultdict\n",
    "\n",
    "\n",
    "def requests_get_all_contents(url):\n",
    "    requests_get_all = requests.get(url, headers=headers)\n",
    "    #print(requests_get_all.status_code)\n",
    "    requests_get_all.encoding = requests_get_all.apparent_encoding\n",
    "    return requests_get_all\n",
    "\n",
    "def write_in_text(content, file_name):\n",
    "    with open(file_name, 'w', encoding='utf-8') as f:\n",
    "        f.writelines(content)\n",
    "\n",
    "def merge_new_sites(new_site, all_sites):\n",
    "    for k in new_site:\n",
    "        if k in all_sites:\n",
    "            all_sites[k]['nabours'] += new_site[k]['nabours']\n",
    "            all_sites[k]['line'] += new_site[k]['line']\n",
    "        else:\n",
    "            all_sites.update(new_site)\n",
    "    return(all_sites)\n",
    "\n",
    "def  find_string_key_word_tables(table_key_words, soup):\n",
    "    for i in table_key_words:\n",
    "        key_word_all_info = soup.find_all(string = re.compile(\".*\" + i + \"$\"))\n",
    "        for r in key_word_all_info:\n",
    "            if r.find_parents('table'):  # 14号线参考资料里面有个  列车时刻表 的祖节点无table，上面是有正确信息的\n",
    "                return i\n",
    "    return False\n",
    "\n",
    "def not_inclued(list, string):\n",
    "    for each in list:\n",
    "        if each in string:\n",
    "            return False\n",
    "    return True\n",
    "\n",
    "def add_one_site_in_one_line(all_sites_in_one_line, remain_list, string):\n",
    "    if not_inclued(remain_list, string):\n",
    "        all_sites_in_one_line.append(string.strip('站'))\n",
    "    else:\n",
    "        all_sites_in_one_line.append(string)\n",
    "    return all_sites_in_one_line\n",
    "\n",
    "def sites_search_shikebiao_shijianbiao(all_sites_in_one_line, line_site_table):\n",
    "    first_column = line_site_table.find_all('tr', )\n",
    "    for each in first_column:\n",
    "        if each.next_element.string == None:\n",
    "            continue\n",
    "        if not_inclued(remove_list, each.next_element.string):\n",
    "            all_sites_in_one_line = add_one_site_in_one_line(all_sites_in_one_line, remain_list, each.next_element.string)\n",
    "    return all_sites_in_one_line\n",
    "\n",
    "def sites_search_jianjuxinxi(all_sites_in_one_line, line_site_table):\n",
    "    first_column = line_site_table.find_all('tr', )\n",
    "    for each in first_column:\n",
    "        if each.next_element.string == None:\n",
    "            continue\n",
    "        if not_inclued(remove_list, each.next_element.string):\n",
    "            site = each.next_element.string.split('——')[0]\n",
    "            all_sites_in_one_line = add_one_site_in_one_line(all_sites_in_one_line, remain_list, site)\n",
    "    return all_sites_in_one_line\n",
    "\n",
    "def sites_search_chezhanmingcheng(all_sites_in_one_line, line_site_table):\n",
    "    first_column = line_site_table.find_all('tr', )\n",
    "    for each in first_column:\n",
    "        site = each.find_all(string = re.compile('.*站$'))\n",
    "        if site == []:\n",
    "            continue\n",
    "        else:\n",
    "            all_sites_in_one_line =add_one_site_in_one_line(all_sites_in_one_line, remain_list, site[0])\n",
    "    return all_sites_in_one_line\n",
    "\n",
    "def search_all_sites_in_one_line(k, v, single_line_soup):\n",
    "    line_site_tables = single_line_soup.find_all(string=re.compile(\".*\" + v['search_table'] + \"$\"))\n",
    "    #print(line_site_tables)\n",
    "    if v['search_table'] == '车时刻表' or v['search_table'] == '车时间':  #时刻表可能有分段的，另外两种情况没有\n",
    "        for t in line_site_tables:\n",
    "            all_sites_in_one_line = []\n",
    "            if not t.find_parents('table'):  #14号线参考资料里面有个  列车时刻表 祖节点无table\n",
    "                continue\n",
    "            line_site_table = t.find_parents('table')[0]\n",
    "            all_sites_in_one_line = sites_search_shikebiao_shijianbiao(all_sites_in_one_line, line_site_table)\n",
    "            add_new_site(all_sites_in_one_line, k, v)\n",
    "\n",
    "    if v['search_table'] == '间距信息统计表':\n",
    "        all_sites_in_one_line = []\n",
    "        all_sites_in_one_line = sites_search_jianjuxinxi(all_sites_in_one_line, line_site_tables[0].find_parents('table')[0])\n",
    "        add_new_site(all_sites_in_one_line, k, v)\n",
    "    if v['search_table'] == '车站名称':\n",
    "        all_sites_in_one_line = []\n",
    "        all_sites_in_one_line = sites_search_chezhanmingcheng(all_sites_in_one_line, line_site_tables[0].find_parents('table')[0])\n",
    "        add_new_site(all_sites_in_one_line, k, v)\n",
    "\n",
    "    #print(len(all_sites_in_one_line))\n",
    "    #print (False if  all_sites_in_one_line == [] else True)\n",
    "    return (False if  all_sites_in_one_line == [] else True)\n",
    "\n",
    "\n",
    "def add_new_site(all_sites_in_one_line, line_parameters_k, line_parameters_v ):\n",
    "    for i in range(len(all_sites_in_one_line)):\n",
    "        new_site_dict = defaultdict(dict)\n",
    "        new_site_dict[all_sites_in_one_line[i]]['name'] = all_sites_in_one_line[i]\n",
    "        new_site_dict[all_sites_in_one_line[i]]['line'] = [line_parameters_k]\n",
    "        if i == 0 and  line_parameters_v['loop'] == True:\n",
    "            new_site_dict[all_sites_in_one_line[i]]['nabours'] = [all_sites_in_one_line[i + 1]] + [all_sites_in_one_line[-1]]\n",
    "        elif i == 0:\n",
    "            new_site_dict[all_sites_in_one_line[i]]['nabours'] = [all_sites_in_one_line[i + 1]]\n",
    "        elif i == len(all_sites_in_one_line) -1 and  line_parameters_v['loop'] == True:\n",
    "            new_site_dict[all_sites_in_one_line[i]]['nabours'] = [all_sites_in_one_line[i - 1]] + [all_sites_in_one_line[0]]\n",
    "        elif i == len(all_sites_in_one_line) -1:\n",
    "            new_site_dict[all_sites_in_one_line[i]]['nabours'] = [all_sites_in_one_line[i - i]]\n",
    "        else:\n",
    "            new_site_dict[all_sites_in_one_line[i]]['nabours'] = [all_sites_in_one_line[i + 1]] + [all_sites_in_one_line[i - 1]]\n",
    "        merge_new_sites(new_site_dict, rail_way_graph)\n",
    "\n",
    "def init_line_paramaters():\n",
    "    url_prefix = 'https://baike.baidu.com'\n",
    "    all_line_list = soup.find_all('a', href=re.compile(\"^/item/\" + urllib.request.quote('北京地铁') + \".*\" + \"%BA%BF$\"),string=re.compile(\"北京地铁.*\"))\n",
    "    for i in all_line_list:\n",
    "        if not (i.string in line_paramaters):\n",
    "            line_paramaters[i.string]['name'] = i.string\n",
    "            line_paramaters[i.string]['url'] = url_prefix + urllib.request.unquote(i['href'])\n",
    "            line_paramaters[i.string]['loop'] = False\n",
    "            line_paramaters[i.string]['search_table'] = False\n",
    "\n",
    "\n",
    "def remove_duplication(list):\n",
    "    lis = []\n",
    "    for i in list:\n",
    "        if i not in lis:\n",
    "            lis.append(i)\n",
    "    return lis\n",
    "\n",
    "def refresh_rail_way_graph():\n",
    "    for k, v in rail_way_graph.items():\n",
    "        v['nabours'] = remove_duplication(v['nabours'])\n",
    "        v['line'] = remove_duplication(v['line'])\n",
    "\n",
    "        city_connection[k] = v['nabours']\n",
    "    return city_connection\n",
    "\n",
    "\n",
    "\n",
    "def search(start, destination, connection_grpah, sort_candidate):\n",
    "    pathes = [[start]]\n",
    "\n",
    "    visitied = set()\n",
    "\n",
    "    while pathes:  # if we find existing pathes\n",
    "        path = pathes.pop(0)\n",
    "        froninter = path[-1]\n",
    "\n",
    "        if froninter in visitied: continue\n",
    "\n",
    "        successors = connection_grpah[froninter]\n",
    "        for city in successors:\n",
    "            if city in path: continue  # eliminate loop\n",
    "            new_path = path + [city]\n",
    "            pathes.append(new_path)\n",
    "            if city == destination:\n",
    "                return new_path\n",
    "        visitied.add(froninter)\n",
    "        pathes = sort_candidate(pathes)  # 我们可以加一个排序函数 对我们的搜索策略进行控制\n",
    "    print(pathes)\n",
    "\n",
    "def transfer_stations_first(pathes):\n",
    "    return sorted(pathes, key=len)\n",
    "\n",
    "def transfer_as_less_as_possible(pathes):\n",
    "    return sorted(pathes, key=len, reverse=False)\n",
    "\n",
    "\n",
    "\n",
    "\n",
    "\n",
    "if __name__ == '__main__':\n",
    "    url = 'https://baike.baidu.com/item/%E5%8C%97%E4%BA%AC%E5%9C%B0%E9%93%81/408485?fr=aladdin'\n",
    "    headers = {\n",
    "        'user-agent': 'Mozilla/5.0 (Windows NT 6.1; WOW64) AppleWebKit/537.36 (KHTML, like Gecko) Chrome/58.0.3029.110 Safari/537.36 SE 2.X MetaSr 1.0',\n",
    "    }\n",
    "\n",
    "    requests_get_base_all = requests_get_all_contents(url)\n",
    "    soup = BeautifulSoup(requests_get_base_all.text, 'html.parser')\n",
    "\n",
    "    line_paramaters = defaultdict(dict)\n",
    "    rail_way_graph = defaultdict(dict)\n",
    "    city_connection = defaultdict(dict)\n",
    "\n",
    "    init_line_paramaters()\n",
    "    # line_paramaters = defaultdict(dict)\n",
    "    # line_paramaters.update({'北京地铁1号线': {'name': '北京地铁1号线', 'url': 'https://baike.baidu.com/item/北京地铁1号线', 'loop': False, 'search_table': '车时刻表'}, '北京地铁13号线': {'name': '北京地铁13号线', 'url': 'https://baike.baidu.com/item/北京地铁13号线', 'loop': False, 'search_table': '车时刻表'}, '北京地铁八通线': {'name': '北京地铁八通线', 'url': 'https://baike.baidu.com/item/北京地铁八通线', 'loop': False, 'search_table': '车时刻表'}, '北京地铁5号线': {'name': '北京地铁5号线', 'url': 'https://baike.baidu.com/item/北京地铁5号线', 'loop': False, 'search_table': '车时刻表'}, '北京地铁8号线': {'name': '北京地铁8号线', 'url': 'https://baike.baidu.com/item/北京地铁8号线', 'loop': False, 'search_table': '车时刻表'}, '北京地铁10号线': {'name': '北京地铁10号线', 'url': 'https://baike.baidu.com/item/北京地铁10号线', 'loop': True, 'search_table': '车时刻表'}, '北京地铁机场线': {'name': '北京地铁机场线', 'url': 'https://baike.baidu.com/item/北京地铁机场线', 'loop': False, 'search_table': '车时刻表'}, '北京地铁4号线': {'name': '北京地铁4号线', 'url': 'https://baike.baidu.com/item/北京地铁4号线', 'loop': False, 'search_table': '车时刻表'}, '北京地铁15号线': {'name': '北京地铁15号线', 'url': 'https://baike.baidu.com/item/北京地铁15号线', 'loop': False, 'search_table': '车时刻表'}, '北京地铁昌平线': {'name': '北京地铁昌平线', 'url': 'https://baike.baidu.com/item/北京地铁昌平线', 'loop': False, 'search_table': '车时刻表'}, '北京地铁大兴线': {'name': '北京地铁大兴线', 'url': 'https://baike.baidu.com/item/北京地铁大兴线', 'loop': False, 'search_table': '间距信息统计表'}, '北京地铁房山线': {'name': '北京地铁房山线', 'url': 'https://baike.baidu.com/item/北京地铁房山线', 'loop': False, 'search_table': '车时刻表'}, '北京地铁亦庄线': {'name': '北京地铁亦庄线', 'url': 'https://baike.baidu.com/item/北京地铁亦庄线', 'loop': False, 'search_table': '车站名称'}, '北京地铁9号线': {'name': '北京地铁9号线', 'url': 'https://baike.baidu.com/item/北京地铁9号线', 'loop': False, 'search_table': '车时刻表'}, '北京地铁6号线': {'name': '北京地铁6号线', 'url': 'https://baike.baidu.com/item/北京地铁6号线', 'loop': False, 'search_table': '车时刻表'}, '北京地铁14号线': {'name': '北京地铁14号线', 'url': 'https://baike.baidu.com/item/北京地铁14号线', 'loop': False, 'search_table': '车时刻表'}, '北京地铁7号线': {'name': '北京地铁7号线', 'url': 'https://baike.baidu.com/item/北京地铁7号线', 'loop': False, 'search_table': '车时刻表'}, '北京地铁16号线': {'name': '北京地铁16号线', 'url': 'https://baike.baidu.com/item/北京地铁16号线', 'loop': False, 'search_table': '车时间'}, '北京地铁西郊线': {'name': '北京地铁西郊线', 'url': 'https://baike.baidu.com/item/北京地铁西郊线', 'loop': False, 'search_table': '车站名称'}, '北京地铁S1线': {'name': '北京地铁S1线', 'url': 'https://baike.baidu.com/item/北京地铁S1线', 'loop': False, 'search_table': '车时刻表'}, '北京地铁燕房线': {'name': '北京地铁燕房线', 'url': 'https://baike.baidu.com/item/北京地铁燕房线', 'loop': False, 'search_table': '车站名称'}, '北京地铁2号线': {'name': '北京地铁2号线', 'url': 'https://baike.baidu.com/item/北京地铁2号线', 'loop': True, 'search_table': '间距信息统计表'}})\n",
    "    #line_paramaters={'北京地铁燕房线': {'name': '北京地铁燕房线', 'url': 'https://baike.baidu.com/item/北京地铁燕房线', 'loop': False, 'search_table': '车站名称'}}\n",
    "\n",
    "    table_key_words = ['车时刻表', '间距信息统计表', '车时间', '车站名称']\n",
    "    remove_list = ['时刻表', '时间表', '车站名称', '【注】', '首车时间', '备注', '下行', '上行', '时间', '全程', '终到车站']\n",
    "    remain_list = ['火车站', '北京站', '北京西站', '北京南站',]\n",
    "\n",
    "\n",
    "\n",
    "    ct = 0\n",
    "    for k, v in line_paramaters.items():\n",
    "        # if ct == 2:\n",
    "        #    break\n",
    "        #采用网页爬取的数据\n",
    "        single_line = BeautifulSoup(requests_get_all_contents(v['url']).text, 'html.parser')\n",
    "\n",
    "        '''\n",
    "        # 采用已经下载好的txt文件读取\n",
    "        #file_name = str(v['name']) + '.txt'\n",
    "        #write_in_text(requests_get_each_line_all.text, file_name)\n",
    "        file_name = k + '.txt'  \n",
    "        single_line = BeautifulSoup(open(file_name, 'r', encoding='utf-8'), 'html.parser')  # 采用已经下载好的txt文件读取\n",
    "        '''\n",
    "\n",
    "\n",
    "        if (single_line.find_all(string=re.compile(\".*环线地铁\")) or single_line.find_all(string=re.compile(\".*环形地铁\"))):\n",
    "            v['loop'] = True\n",
    "\n",
    "        v['search_table'] = find_string_key_word_tables(table_key_words, single_line)\n",
    "        print(k)\n",
    "        # print(k, v['search_table'])\n",
    "        search_all_sites_in_one_line(k, v, single_line)\n",
    "\n",
    "        # ct += 1\n",
    "    \n",
    "    \n",
    "    refresh_rail_way_graph()\n",
    "    \n",
    "    #print(line_paramaters)\n",
    "    #print(rail_way_graph)\n",
    "    #print(city_connection)\n",
    "\n",
    "    simple_connection_info = defaultdict(list)\n",
    "    simple_connection_info.update(city_connection)\n",
    "\n",
    "\n",
    "print(search('西单', '中国美术馆', simple_connection_info, sort_candidate=transfer_as_less_as_possible))\n"
   ]
  },
  {
   "cell_type": "markdown",
   "metadata": {},
   "source": [
    "## （Optional）Create different policies for transfer system.\n"
   ]
  },
  {
   "cell_type": "markdown",
   "metadata": {},
   "source": [
    "以下部门为可选部分，请酌情完成。 并不要求全部同学完成。"
   ]
  },
  {
   "cell_type": "markdown",
   "metadata": {},
   "source": [
    "As much as you can to use the already implemented search agent. You just need to define the **is_goal()**, **get_successor()**, **strategy()** three functions. \n",
    "\n",
    "> a.\tDefine different policies for transfer system. \n",
    "\n",
    "> b.\tSuch as Shortest Path Priority（路程最短优先）, Minimum Transfer Priority(最少换乘优先), Comprehensive Priority(综合优先)\n",
    "\n",
    "> c.\tImplement Continuous transfer. Based on the Agent you implemented, please add this feature: Besides the @param start and @param destination two stations, add some more stations, we called @param by_way, it means, our path should from the start and end, but also include the  @param by_way stations. \n",
    "\n",
    "e.g \n",
    "```\n",
    "1. Input:  start=A,  destination=B, by_way=[C] \n",
    "    Output: [A, … .., C, …. B]\n",
    "2. Input: start=A, destination=B, by_way=[C, D, E]\n",
    "    Output: [A … C … E … D … B]  \n",
    "    # based on your policy, the E station could be reached firstly. \n",
    "![image.png](attachment:image.png)\n",
    "```"
   ]
  },
  {
   "cell_type": "code",
   "execution_count": 6,
   "metadata": {},
   "outputs": [
    {
     "name": "stdout",
     "output_type": "stream",
     "text": [
      "all different ways with min stations that cannot repeat:\n",
      "['北京南站', '永定门外', '天桥', '珠市口']\n",
      "['北京南站', '陶然亭', '菜市口', '虎坊桥', '珠市口']\n",
      "['北京南站', '永定门外', '景泰', '蒲黄榆', '天坛东门', '磁器口', '桥湾', '珠市口']\n",
      "---least_stations_first---\n",
      " The best way is: ['北京南站', '永定门外', '天桥', '珠市口']\n"
     ]
    }
   ],
   "source": [
    "# -*- coding:utf-8 -*-\n",
    "\n",
    "from bs4 import BeautifulSoup\n",
    "import requests, re, urllib, time\n",
    "from collections import defaultdict\n",
    "\n",
    "line_paramaters = {'北京地铁1号线': {'name': '北京地铁1号线', 'url': 'https://baike.baidu.com/item/北京地铁1号线', 'loop': False, 'search_table': '车时刻表'}, '北京地铁13号线': {'name': '北京地铁13号线', 'url': 'https://baike.baidu.com/item/北京地铁13号线', 'loop': False, 'search_table': '车时刻表'}, '北京地铁八通线': {'name': '北京地铁八通线', 'url': 'https://baike.baidu.com/item/北京地铁八通线', 'loop': False, 'search_table': '车时刻表'}, '北京地铁5号线': {'name': '北京地铁5号线', 'url': 'https://baike.baidu.com/item/北京地铁5号线', 'loop': False, 'search_table': '车时刻表'}, '北京地铁8号线': {'name': '北京地铁8号线', 'url': 'https://baike.baidu.com/item/北京地铁8号线', 'loop': False, 'search_table': '车时刻表'}, '北京地铁10号线': {'name': '北京地铁10号线', 'url': 'https://baike.baidu.com/item/北京地铁10号线', 'loop': True, 'search_table': '车时刻表'}, '北京地铁机场线': {'name': '北京地铁机场线', 'url': 'https://baike.baidu.com/item/北京地铁机场线', 'loop': False, 'search_table': '车时刻表'}, '北京地铁4号线': {'name': '北京地铁4号线', 'url': 'https://baike.baidu.com/item/北京地铁4号线', 'loop': False, 'search_table': '车时刻表'}, '北京地铁15号线': {'name': '北京地铁15号线', 'url': 'https://baike.baidu.com/item/北京地铁15号线', 'loop': False, 'search_table': '车时刻表'}, '北京地铁昌平线': {'name': '北京地铁昌平线', 'url': 'https://baike.baidu.com/item/北京地铁昌平线', 'loop': False, 'search_table': '车时刻表'}, '北京地铁大兴线': {'name': '北京地铁大兴线', 'url': 'https://baike.baidu.com/item/北京地铁大兴线', 'loop': False, 'search_table': '间距信息统计表'}, '北京地铁房山线': {'name': '北京地铁房山线', 'url': 'https://baike.baidu.com/item/北京地铁房山线', 'loop': False, 'search_table': '车时刻表'}, '北京地铁亦庄线': {'name': '北京地铁亦庄线', 'url': 'https://baike.baidu.com/item/北京地铁亦庄线', 'loop': False, 'search_table': '车站名称'}, '北京地铁9号线': {'name': '北京地铁9号线', 'url': 'https://baike.baidu.com/item/北京地铁9号线', 'loop': False, 'search_table': '车时刻表'}, '北京地铁6号线': {'name': '北京地铁6号线', 'url': 'https://baike.baidu.com/item/北京地铁6号线', 'loop': False, 'search_table': '车时刻表'}, '北京地铁14号线': {'name': '北京地铁14号线', 'url': 'https://baike.baidu.com/item/北京地铁14号线', 'loop': False, 'search_table': '车时刻表'}, '北京地铁7号线': {'name': '北京地铁7号线', 'url': 'https://baike.baidu.com/item/北京地铁7号线', 'loop': False, 'search_table': '车时刻表'}, '北京地铁16号线': {'name': '北京地铁16号线', 'url': 'https://baike.baidu.com/item/北京地铁16号线', 'loop': False, 'search_table': '车时间'}, '北京地铁西郊线': {'name': '北京地铁西郊线', 'url': 'https://baike.baidu.com/item/北京地铁西郊线', 'loop': False, 'search_table': '车站名称'}, '北京地铁S1线': {'name': '北京地铁S1线', 'url': 'https://baike.baidu.com/item/北京地铁S1线', 'loop': False, 'search_table': '车时刻表'}, '北京地铁燕房线': {'name': '北京地铁燕房线', 'url': 'https://baike.baidu.com/item/北京地铁燕房线', 'loop': False, 'search_table': '车站名称'}, '北京地铁2号线': {'name': '北京地铁2号线', 'url': 'https://baike.baidu.com/item/北京地铁2号线', 'loop': True, 'search_table': '间距信息统计表'}}\n",
    "rail_way_graph = {'苹果园': {'name': '苹果园', 'line': ['北京地铁1号线', '北京地铁6号线', '北京地铁S1线'], 'nabours': ['古城', '杨庄', '金安桥']}, '古城': {'name': '古城', 'line': ['北京地铁1号线'], 'nabours': ['八角游乐园', '苹果园']}, '八角游乐园': {'name': '八角游乐园', 'line': ['北京地铁1号线'], 'nabours': ['八宝山', '古城']}, '八宝山': {'name': '八宝山', 'line': ['北京地铁1号线'], 'nabours': ['玉泉路', '八角游乐园']}, '玉泉路': {'name': '玉泉路', 'line': ['北京地铁1号线'], 'nabours': ['五棵松', '八宝山']}, '五棵松': {'name': '五棵松', 'line': ['北京地铁1号线'], 'nabours': ['万寿路', '玉泉路']}, '万寿路': {'name': '万寿路', 'line': ['北京地铁1号线'], 'nabours': ['公主坟', '五棵松']}, '公主坟': {'name': '公主坟', 'line': ['北京地铁1号线', '北京地铁10号线'], 'nabours': ['军事博物馆', '万寿路', '西钓鱼台', '莲花桥']}, '军事博物馆': {'name': '军事博物馆', 'line': ['北京地铁1号线', '北京地铁9号线'], 'nabours': ['木樨地', '公主坟', '白堆子', '北京西站']}, '木樨地': {'name': '木樨地', 'line': ['北京地铁1号线'], 'nabours': ['南礼士路', '军事博物馆']}, '南礼士路': {'name': '南礼士路', 'line': ['北京地铁1号线'], 'nabours': ['复兴门', '木樨地']}, '复兴门': {'name': '复兴门', 'line': ['北京地铁1号线', '北京地铁2号线'], 'nabours': ['西单', '南礼士路', '长椿街', '阜成门']}, '西单': {'name': '西单', 'line': ['北京地铁1号线', '北京地铁4号线'], 'nabours': ['天安门西', '复兴门', '宣武门', '灵境胡同']}, '天安门西': {'name': '天安门西', 'line': ['北京地铁1号线'], 'nabours': ['天安门东', '西单']}, '天安门东': {'name': '天安门东', 'line': ['北京地铁1号线'], 'nabours': ['王府井', '天安门西']}, '王府井': {'name': '王府井', 'line': ['北京地铁1号线'], 'nabours': ['东单', '天安门东']}, '东单': {'name': '东单', 'line': ['北京地铁1号线', '北京地铁5号线'], 'nabours': ['建国门', '王府井', '灯市口', '崇文门']}, '建国门': {'name': '建国门', 'line': ['北京地铁1号线', '北京地铁2号线'], 'nabours': ['永安里', '东单', '朝阳门', '北京站']}, '永安里': {'name': '永安里', 'line': ['北京地铁1号线'], 'nabours': ['国贸', '建国门']}, '国贸': {'name': '国贸', 'line': ['北京地铁1号线', '北京地铁10号线'], 'nabours': ['大望路', '永安里', '双井', '金台夕照']}, '大望路': {'name': '大望路', 'line': ['北京地铁1号线', '北京地铁14号线'], 'nabours': ['四惠', '国贸', '金台路', '九龙山']}, '四惠': {'name': '四惠', 'line': ['北京地铁1号线', '北京地铁八通线'], 'nabours': ['四惠东', '大望路']}, '四惠东': {'name': '四惠东', 'line': ['北京地铁1号线', '北京地铁八通线'], 'nabours': ['苹果园', '高碑店', '四惠']}, '西直门': {'name': '西直门', 'line': ['北京地铁13号线', '北京地铁4号线', '北京地铁2号线'], 'nabours': ['明光桥西', '新街口', '动物园', '车公庄', '积水潭']}, '明光桥西': {'name': '明光桥西', 'line': ['北京地铁13号线'], 'nabours': ['大钟寺', '西直门']}, '大钟寺': {'name': '大钟寺', 'line': ['北京地铁13号线'], 'nabours': ['知春路', '明光桥西']}, '知春路': {'name': '知春路', 'line': ['北京地铁13号线', '北京地铁10号线'], 'nabours': ['五道口', '大钟寺', '西土城', '知春里']}, '五道口': {'name': '五道口', 'line': ['北京地铁13号线'], 'nabours': ['清华东路西口', '知春路']}, '清华东路西口': {'name': '清华东路西口', 'line': ['北京地铁13号线', '北京地铁15号线'], 'nabours': ['上地', '五道口', '俸伯']}, '上地': {'name': '上地', 'line': ['北京地铁13号线'], 'nabours': ['清河', '清华东路西口']}, '清河': {'name': '清河', 'line': ['北京地铁13号线'], 'nabours': ['西二旗', '上地']}, '西二旗': {'name': '西二旗', 'line': ['北京地铁13号线', '北京地铁昌平线'], 'nabours': ['龙泽', '清河', '昌平西山口']}, '龙泽': {'name': '龙泽', 'line': ['北京地铁13号线'], 'nabours': ['回龙观', '西二旗']}, '回龙观': {'name': '回龙观', 'line': ['北京地铁13号线'], 'nabours': ['霍营', '龙泽']}, '霍营': {'name': '霍营', 'line': ['北京地铁13号线', '北京地铁8号线'], 'nabours': ['建材城东路', '回龙观', '育新', '回龙观东大街']}, '建材城东路': {'name': '建材城东路', 'line': ['北京地铁13号线'], 'nabours': ['立水桥', '霍营']}, '立水桥': {'name': '立水桥', 'line': ['北京地铁13号线', '北京地铁5号线'], 'nabours': ['北苑', '建材城东路', '天通苑南', '立水桥南']}, '北苑': {'name': '北苑', 'line': ['北京地铁13号线'], 'nabours': ['来广营西', '立水桥']}, '来广营西': {'name': '来广营西', 'line': ['北京地铁13号线'], 'nabours': ['望京西', '北苑']}, '望京西': {'name': '望京西', 'line': ['北京地铁13号线', '北京地铁15号线'], 'nabours': ['望和桥', '来广营西', '关庄', '望京']}, '望和桥': {'name': '望和桥', 'line': ['北京地铁13号线'], 'nabours': ['芍药居', '望京西']}, '芍药居': {'name': '芍药居', 'line': ['北京地铁13号线', '北京地铁10号线'], 'nabours': ['光熙门', '望和桥', '太阳宫', '惠新西街南口']}, '光熙门': {'name': '光熙门', 'line': ['北京地铁13号线'], 'nabours': ['柳芳', '芍药居']}, '柳芳': {'name': '柳芳', 'line': ['北京地铁13号线'], 'nabours': ['东直门', '光熙门']}, '东直门': {'name': '东直门', 'line': ['北京地铁13号线', '北京地铁机场线', '北京地铁2号线'], 'nabours': ['西直门', '三元桥', '雍和宫', '东四十条']}, '高碑店': {'name': '高碑店', 'line': ['北京地铁八通线'], 'nabours': ['传媒大学', '四惠东']}, '传媒大学': {'name': '传媒大学', 'line': ['北京地铁八通线'], 'nabours': ['双桥', '高碑店']}, '双桥': {'name': '双桥', 'line': ['北京地铁八通线'], 'nabours': ['管庄', '传媒大学']}, '管庄': {'name': '管庄', 'line': ['北京地铁八通线'], 'nabours': ['八里桥', '双桥']}, '八里桥': {'name': '八里桥', 'line': ['北京地铁八通线'], 'nabours': ['通州北苑', '管庄']}, '通州北苑': {'name': '通州北苑', 'line': ['北京地铁八通线'], 'nabours': ['果园', '八里桥']}, '果园': {'name': '果园', 'line': ['北京地铁八通线'], 'nabours': ['九棵树', '通州北苑']}, '九棵树': {'name': '九棵树', 'line': ['北京地铁八通线'], 'nabours': ['梨园', '果园']}, '梨园': {'name': '梨园', 'line': ['北京地铁八通线'], 'nabours': ['临河里', '九棵树']}, '临河里': {'name': '临河里', 'line': ['北京地铁八通线'], 'nabours': ['土桥', '梨园']}, '土桥': {'name': '土桥', 'line': ['北京地铁八通线'], 'nabours': ['四惠']}, '宋家庄': {'name': '宋家庄', 'line': ['北京地铁5号线', '北京地铁10号线', '北京地铁亦庄线'], 'nabours': ['刘家窑', '石榴庄', '成寿寺', '肖村']}, '刘家窑': {'name': '刘家窑', 'line': ['北京地铁5号线'], 'nabours': ['蒲黄榆', '宋家庄']}, '蒲黄榆': {'name': '蒲黄榆', 'line': ['北京地铁5号线', '北京地铁14号线'], 'nabours': ['天坛东门', '刘家窑', '方庄', '景泰']}, '天坛东门': {'name': '天坛东门', 'line': ['北京地铁5号线'], 'nabours': ['磁器口', '蒲黄榆']}, '磁器口': {'name': '磁器口', 'line': ['北京地铁5号线', '北京地铁7号线'], 'nabours': ['崇文门', '天坛东门', '广渠门内', '桥湾']}, '崇文门': {'name': '崇文门', 'line': ['北京地铁5号线', '北京地铁2号线'], 'nabours': ['东单', '磁器口', '北京站', '前门']}, '灯市口': {'name': '灯市口', 'line': ['北京地铁5号线'], 'nabours': ['东四', '东单']}, '东四': {'name': '东四', 'line': ['北京地铁5号线', '北京地铁6号线'], 'nabours': ['张自忠路', '灯市口', '朝阳门', '南锣鼓巷']}, '张自忠路': {'name': '张自忠路', 'line': ['北京地铁5号线'], 'nabours': ['北新桥', '东四']}, '北新桥': {'name': '北新桥', 'line': ['北京地铁5号线'], 'nabours': ['雍和宫', '张自忠路']}, '雍和宫': {'name': '雍和宫', 'line': ['北京地铁5号线', '北京地铁2号线'], 'nabours': ['和平里北街', '北新桥', '安定门', '东直门']}, '和平里北街': {'name': '和平里北街', 'line': ['北京地铁5号线'], 'nabours': ['和平西桥', '雍和宫']}, '和平西桥': {'name': '和平西桥', 'line': ['北京地铁5号线'], 'nabours': ['惠新西街南口', '和平里北街']}, '惠新西街南口': {'name': '惠新西街南口', 'line': ['北京地铁5号线', '北京地铁10号线'], 'nabours': ['惠新西街北口', '和平西桥', '芍药居', '安贞门']}, '惠新西街北口': {'name': '惠新西街北口', 'line': ['北京地铁5号线'], 'nabours': ['大屯路东', '惠新西街南口']}, '大屯路东': {'name': '大屯路东', 'line': ['北京地铁5号线', '北京地铁15号线'], 'nabours': ['北苑路北', '惠新西街北口', '安立路', '关庄']}, '北苑路北': {'name': '北苑路北', 'line': ['北京地铁5号线'], 'nabours': ['立水桥南', '大屯路东']}, '立水桥南': {'name': '立水桥南', 'line': ['北京地铁5号线'], 'nabours': ['立水桥', '北苑路北']}, '天通苑南': {'name': '天通苑南', 'line': ['北京地铁5号线'], 'nabours': ['天通苑', '立水桥']}, '天通苑': {'name': '天通苑', 'line': ['北京地铁5号线'], 'nabours': ['天通苑北', '天通苑南']}, '天通苑北': {'name': '天通苑北', 'line': ['北京地铁5号线'], 'nabours': ['宋家庄']}, '朱辛庄': {'name': '朱辛庄', 'line': ['北京地铁8号线', '北京地铁昌平线'], 'nabours': ['育知路', '生命科学园', '巩华城']}, '育知路': {'name': '育知路', 'line': ['北京地铁8号线'], 'nabours': ['平西府', '朱辛庄']}, '平西府': {'name': '平西府', 'line': ['北京地铁8号线'], 'nabours': ['回龙观东大街', '育知路']}, '回龙观东大街': {'name': '回龙观东大街', 'line': ['北京地铁8号线'], 'nabours': ['霍营', '平西府']}, '育新': {'name': '育新', 'line': ['北京地铁8号线'], 'nabours': ['西小口', '霍营']}, '西小口': {'name': '西小口', 'line': ['北京地铁8号线'], 'nabours': ['永泰庄', '育新']}, '永泰庄': {'name': '永泰庄', 'line': ['北京地铁8号线'], 'nabours': ['林萃桥', '西小口']}, '林萃桥': {'name': '林萃桥', 'line': ['北京地铁8号线'], 'nabours': ['森林公园南门', '永泰庄']}, '森林公园南门': {'name': '森林公园南门', 'line': ['北京地铁8号线'], 'nabours': ['奥林匹克公园', '林萃桥']}, '奥林匹克公园': {'name': '奥林匹克公园', 'line': ['北京地铁8号线', '北京地铁15号线'], 'nabours': ['奥体中心', '森林公园南门', '北沙滩', '安立路']}, '奥体中心': {'name': '奥体中心', 'line': ['北京地铁8号线'], 'nabours': ['北土城', '奥林匹克公园']}, '北土城': {'name': '北土城', 'line': ['北京地铁8号线', '北京地铁10号线'], 'nabours': ['安华桥', '奥体中心', '安贞门', '健德门']}, '安华桥': {'name': '安华桥', 'line': ['北京地铁8号线'], 'nabours': ['安德里北街', '北土城']}, '安德里北街': {'name': '安德里北街', 'line': ['北京地铁8号线'], 'nabours': ['鼓楼大街', '安华桥']}, '鼓楼大街': {'name': '鼓楼大街', 'line': ['北京地铁8号线', '北京地铁2号线'], 'nabours': ['什刹海', '安德里北街', '积水潭', '安定门']}, '什刹海': {'name': '什刹海', 'line': ['北京地铁8号线'], 'nabours': ['南锣鼓巷', '鼓楼大街']}, '南锣鼓巷': {'name': '南锣鼓巷', 'line': ['北京地铁8号线', '北京地铁6号线'], 'nabours': ['中国美术馆', '什刹海', '东四', '北海北']}, '中国美术馆': {'name': '中国美术馆', 'line': ['北京地铁8号线'], 'nabours': ['朱辛庄']}, '瀛海': {'name': '瀛海', 'line': ['北京地铁8号线'], 'nabours': ['德茂']}, '德茂': {'name': '德茂', 'line': ['北京地铁8号线'], 'nabours': ['五福堂', '瀛海']}, '五福堂': {'name': '五福堂', 'line': ['北京地铁8号线'], 'nabours': ['火箭万源', '德茂']}, '火箭万源': {'name': '火箭万源', 'line': ['北京地铁8号线'], 'nabours': ['东高地', '五福堂']}, '东高地': {'name': '东高地', 'line': ['北京地铁8号线'], 'nabours': ['和义', '火箭万源']}, '和义': {'name': '和义', 'line': ['北京地铁8号线'], 'nabours': ['大红门南', '东高地']}, '大红门南': {'name': '大红门南', 'line': ['北京地铁8号线'], 'nabours': ['大红门', '和义']}, '大红门': {'name': '大红门', 'line': ['北京地铁8号线', '北京地铁10号线'], 'nabours': ['海户屯', '大红门南', '角门东', '石榴庄']}, '海户屯': {'name': '海户屯', 'line': ['北京地铁8号线'], 'nabours': ['木樨园', '大红门']}, '木樨园': {'name': '木樨园', 'line': ['北京地铁8号线'], 'nabours': ['永定门外', '海户屯']}, '永定门外': {'name': '永定门外', 'line': ['北京地铁8号线', '北京地铁14号线'], 'nabours': ['天桥', '木樨园', '景泰', '北京南站']}, '天桥': {'name': '天桥', 'line': ['北京地铁8号线'], 'nabours': ['珠市口', '永定门外']}, '珠市口': {'name': '珠市口', 'line': ['北京地铁8号线', '北京地铁7号线'], 'nabours': ['瀛海', '桥湾', '虎坊桥']}, '巴沟': {'name': '巴沟', 'line': ['北京地铁10号线', '北京地铁西郊线'], 'nabours': ['苏州街', '火器营', '颐和园西门']}, '苏州街': {'name': '苏州街', 'line': ['北京地铁10号线'], 'nabours': ['海淀黄庄', '巴沟']}, '海淀黄庄': {'name': '海淀黄庄', 'line': ['北京地铁10号线', '北京地铁4号线'], 'nabours': ['知春里', '苏州街', '人民大学', '中关村']}, '知春里': {'name': '知春里', 'line': ['北京地铁10号线'], 'nabours': ['知春路', '海淀黄庄']}, '西土城': {'name': '西土城', 'line': ['北京地铁10号线'], 'nabours': ['牡丹园', '知春路']}, '牡丹园': {'name': '牡丹园', 'line': ['北京地铁10号线'], 'nabours': ['健德门', '西土城']}, '健德门': {'name': '健德门', 'line': ['北京地铁10号线'], 'nabours': ['北土城', '牡丹园']}, '安贞门': {'name': '安贞门', 'line': ['北京地铁10号线'], 'nabours': ['惠新西街南口', '北土城']}, '太阳宫': {'name': '太阳宫', 'line': ['北京地铁10号线'], 'nabours': ['三元桥', '芍药居']}, '三元桥': {'name': '三元桥', 'line': ['北京地铁10号线', '北京地铁机场线'], 'nabours': ['亮马桥', '太阳宫', '3号航站楼', '东直门']}, '亮马桥': {'name': '亮马桥', 'line': ['北京地铁10号线'], 'nabours': ['农业展览馆', '三元桥']}, '农业展览馆': {'name': '农业展览馆', 'line': ['北京地铁10号线'], 'nabours': ['团结湖', '亮马桥']}, '团结湖': {'name': '团结湖', 'line': ['北京地铁10号线'], 'nabours': ['呼家楼', '农业展览馆']}, '呼家楼': {'name': '呼家楼', 'line': ['北京地铁10号线', '北京地铁6号线'], 'nabours': ['金台夕照', '团结湖', '金台路', '东大桥']}, '金台夕照': {'name': '金台夕照', 'line': ['北京地铁10号线'], 'nabours': ['国贸', '呼家楼']}, '双井': {'name': '双井', 'line': ['北京地铁10号线', '北京地铁7号线'], 'nabours': ['劲松', '国贸', '九龙山', '广渠门外']}, '劲松': {'name': '劲松', 'line': ['北京地铁10号线'], 'nabours': ['潘家园', '双井']}, '潘家园': {'name': '潘家园', 'line': ['北京地铁10号线'], 'nabours': ['十里河', '劲松']}, '十里河': {'name': '十里河', 'line': ['北京地铁10号线', '北京地铁14号线'], 'nabours': ['分钟寺', '潘家园', '北工大西门', '方庄']}, '分钟寺': {'name': '分钟寺', 'line': ['北京地铁10号线'], 'nabours': ['成寿寺', '十里河']}, '成寿寺': {'name': '成寿寺', 'line': ['北京地铁10号线'], 'nabours': ['宋家庄', '分钟寺']}, '石榴庄': {'name': '石榴庄', 'line': ['北京地铁10号线'], 'nabours': ['大红门', '宋家庄']}, '角门东': {'name': '角门东', 'line': ['北京地铁10号线'], 'nabours': ['角门西', '大红门']}, '角门西': {'name': '角门西', 'line': ['北京地铁10号线', '北京地铁4号线'], 'nabours': ['草桥', '角门东', '公益西桥', '马家堡']}, '草桥': {'name': '草桥', 'line': ['北京地铁10号线'], 'nabours': ['纪家庙', '角门西']}, '纪家庙': {'name': '纪家庙', 'line': ['北京地铁10号线'], 'nabours': ['首经贸', '草桥']}, '首经贸': {'name': '首经贸', 'line': ['北京地铁10号线'], 'nabours': ['丰台', '纪家庙']}, '丰台': {'name': '丰台', 'line': ['北京地铁10号线'], 'nabours': ['泥洼', '首经贸']}, '泥洼': {'name': '泥洼', 'line': ['北京地铁10号线'], 'nabours': ['西局', '丰台']}, '西局': {'name': '西局', 'line': ['北京地铁10号线', '北京地铁14号线'], 'nabours': ['六里桥', '泥洼', '张郭庄']}, '六里桥': {'name': '六里桥', 'line': ['北京地铁10号线', '北京地铁9号线'], 'nabours': ['莲花桥', '西局', '六里桥东', '七里庄']}, '莲花桥': {'name': '莲花桥', 'line': ['北京地铁10号线'], 'nabours': ['公主坟', '六里桥']}, '西钓鱼台': {'name': '西钓鱼台', 'line': ['北京地铁10号线'], 'nabours': ['慈寿寺', '公主坟']}, '慈寿寺': {'name': '慈寿寺', 'line': ['北京地铁10号线', '北京地铁6号线'], 'nabours': ['车道沟', '西钓鱼台', '花园桥', '海淀五路居']}, '车道沟': {'name': '车道沟', 'line': ['北京地铁10号线'], 'nabours': ['长春桥', '慈寿寺']}, '长春桥': {'name': '长春桥', 'line': ['北京地铁10号线'], 'nabours': ['火器营', '车道沟']}, '火器营': {'name': '火器营', 'line': ['北京地铁10号线'], 'nabours': ['长春桥', '巴沟']}, '3号航站楼': {'name': '3号航站楼', 'line': ['北京地铁机场线'], 'nabours': ['2号航站楼', '三元桥']}, '2号航站楼': {'name': '2号航站楼', 'line': ['北京地铁机场线'], 'nabours': ['东直门']}, '安河桥北': {'name': '安河桥北', 'line': ['北京地铁4号线'], 'nabours': ['北宫门']}, '北宫门': {'name': '北宫门', 'line': ['北京地铁4号线'], 'nabours': ['西苑', '安河桥北']}, '西苑': {'name': '西苑', 'line': ['北京地铁4号线', '北京地铁16号线'], 'nabours': ['圆明园', '北宫门', '农大南路']}, '圆明园': {'name': '圆明园', 'line': ['北京地铁4号线'], 'nabours': ['北京大学东门', '西苑']}, '北京大学东门': {'name': '北京大学东门', 'line': ['北京地铁4号线'], 'nabours': ['中关村', '圆明园']}, '中关村': {'name': '中关村', 'line': ['北京地铁4号线'], 'nabours': ['海淀黄庄', '北京大学东门']}, '人民大学': {'name': '人民大学', 'line': ['北京地铁4号线'], 'nabours': ['魏公村', '海淀黄庄']}, '魏公村': {'name': '魏公村', 'line': ['北京地铁4号线'], 'nabours': ['国家图书馆', '人民大学']}, '国家图书馆': {'name': '国家图书馆', 'line': ['北京地铁4号线', '北京地铁9号线'], 'nabours': ['动物园', '魏公村', '郭公庄']}, '动物园': {'name': '动物园', 'line': ['北京地铁4号线'], 'nabours': ['西直门', '国家图书馆']}, '新街口': {'name': '新街口', 'line': ['北京地铁4号线'], 'nabours': ['平安里', '西直门']}, '平安里': {'name': '平安里', 'line': ['北京地铁4号线', '北京地铁6号线'], 'nabours': ['西四', '新街口', '北海北', '车公庄']}, '西四': {'name': '西四', 'line': ['北京地铁4号线'], 'nabours': ['灵境胡同', '平安里']}, '灵境胡同': {'name': '灵境胡同', 'line': ['北京地铁4号线'], 'nabours': ['西单', '西四']}, '宣武门': {'name': '宣武门', 'line': ['北京地铁4号线', '北京地铁2号线'], 'nabours': ['菜市口', '西单', '和平门', '长椿街']}, '菜市口': {'name': '菜市口', 'line': ['北京地铁4号线', '北京地铁7号线'], 'nabours': ['陶然亭', '宣武门', '虎坊桥', '广安门内']}, '陶然亭': {'name': '陶然亭', 'line': ['北京地铁4号线'], 'nabours': ['北京南站', '菜市口']}, '北京南站': {'name': '北京南站', 'line': ['北京地铁4号线', '北京地铁14号线'], 'nabours': ['马家堡', '陶然亭', '永定门外']}, '马家堡': {'name': '马家堡', 'line': ['北京地铁4号线'], 'nabours': ['角门西', '北京南站']}, '公益西桥': {'name': '公益西桥', 'line': ['北京地铁4号线', '北京地铁大兴线'], 'nabours': ['安河桥北', '新宫']}, '俸伯': {'name': '俸伯', 'line': ['北京地铁15号线'], 'nabours': ['顺义']}, '顺义': {'name': '顺义', 'line': ['北京地铁15号线'], 'nabours': ['石门', '俸伯']}, '石门': {'name': '石门', 'line': ['北京地铁15号线'], 'nabours': ['南法信', '顺义']}, '南法信': {'name': '南法信', 'line': ['北京地铁15号线'], 'nabours': ['后沙峪', '石门']}, '后沙峪': {'name': '后沙峪', 'line': ['北京地铁15号线'], 'nabours': ['花梨坎', '南法信']}, '花梨坎': {'name': '花梨坎', 'line': ['北京地铁15号线'], 'nabours': ['国展', '后沙峪']}, '国展': {'name': '国展', 'line': ['北京地铁15号线'], 'nabours': ['孙河', '花梨坎']}, '孙河': {'name': '孙河', 'line': ['北京地铁15号线'], 'nabours': ['马泉营', '国展']}, '马泉营': {'name': '马泉营', 'line': ['北京地铁15号线'], 'nabours': ['崔各庄', '孙河']}, '崔各庄': {'name': '崔各庄', 'line': ['北京地铁15号线'], 'nabours': ['望京东', '马泉营']}, '望京东': {'name': '望京东', 'line': ['北京地铁15号线'], 'nabours': ['望京', '崔各庄']}, '望京': {'name': '望京', 'line': ['北京地铁15号线', '北京地铁14号线'], 'nabours': ['望京西', '望京东', '东湖渠', '阜通']}, '关庄': {'name': '关庄', 'line': ['北京地铁15号线'], 'nabours': ['大屯路东', '望京西']}, '安立路': {'name': '安立路', 'line': ['北京地铁15号线'], 'nabours': ['奥林匹克公园', '大屯路东']}, '北沙滩': {'name': '北沙滩', 'line': ['北京地铁15号线'], 'nabours': ['六道口', '奥林匹克公园']}, '六道口': {'name': '六道口', 'line': ['北京地铁15号线'], 'nabours': ['清华东路西口', '北沙滩']}, '昌平西山口': {'name': '昌平西山口', 'line': ['北京地铁昌平线'], 'nabours': ['十三陵景区']}, '十三陵景区': {'name': '十三陵景区', 'line': ['北京地铁昌平线'], 'nabours': ['昌平', '昌平西山口']}, '昌平': {'name': '昌平', 'line': ['北京地铁昌平线'], 'nabours': ['昌平东关', '十三陵景区']}, '昌平东关': {'name': '昌平东关', 'line': ['北京地铁昌平线'], 'nabours': ['北邵洼', '昌平']}, '北邵洼': {'name': '北邵洼', 'line': ['北京地铁昌平线'], 'nabours': ['南邵', '昌平东关']}, '南邵': {'name': '南邵', 'line': ['北京地铁昌平线'], 'nabours': ['沙河高教园', '北邵洼']}, '沙河高教园': {'name': '沙河高教园', 'line': ['北京地铁昌平线'], 'nabours': ['沙河', '南邵']}, '沙河': {'name': '沙河', 'line': ['北京地铁昌平线'], 'nabours': ['巩华城', '沙河高教园']}, '巩华城': {'name': '巩华城', 'line': ['北京地铁昌平线'], 'nabours': ['朱辛庄', '沙河']}, '生命科学园': {'name': '生命科学园', 'line': ['北京地铁昌平线'], 'nabours': ['西二旗', '朱辛庄']}, '新宫': {'name': '新宫', 'line': ['北京地铁大兴线'], 'nabours': ['西红门', '公益西桥']}, '西红门': {'name': '西红门', 'line': ['北京地铁大兴线'], 'nabours': ['高米店北', '新宫']}, '高米店北': {'name': '高米店北', 'line': ['北京地铁大兴线'], 'nabours': ['高米店南', '西红门']}, '高米店南': {'name': '高米店南', 'line': ['北京地铁大兴线'], 'nabours': ['枣园', '高米店北']}, '枣园': {'name': '枣园', 'line': ['北京地铁大兴线'], 'nabours': ['清源路', '高米店南']}, '清源路': {'name': '清源路', 'line': ['北京地铁大兴线'], 'nabours': ['黄村西大街', '枣园']}, '黄村西大街': {'name': '黄村西大街', 'line': ['北京地铁大兴线'], 'nabours': ['黄村火车站', '清源路']}, '黄村火车站': {'name': '黄村火车站', 'line': ['北京地铁大兴线'], 'nabours': ['义和庄', '黄村西大街']}, '义和庄': {'name': '义和庄', 'line': ['北京地铁大兴线'], 'nabours': ['生物医药基地', '黄村火车站']}, '生物医药基地': {'name': '生物医药基地', 'line': ['北京地铁大兴线'], 'nabours': ['公益西桥']}, '郭公庄': {'name': '郭公庄', 'line': ['北京地铁房山线', '北京地铁9号线'], 'nabours': ['大葆台', '丰台科技园']}, '大葆台': {'name': '大葆台', 'line': ['北京地铁房山线'], 'nabours': ['稻田', '郭公庄']}, '稻田': {'name': '稻田', 'line': ['北京地铁房山线'], 'nabours': ['长阳', '大葆台']}, '长阳': {'name': '长阳', 'line': ['北京地铁房山线'], 'nabours': ['篱笆房', '稻田']}, '篱笆房': {'name': '篱笆房', 'line': ['北京地铁房山线'], 'nabours': ['广阳城', '长阳']}, '广阳城': {'name': '广阳城', 'line': ['北京地铁房山线'], 'nabours': ['良乡大学城北', '篱笆房']}, '良乡大学城北': {'name': '良乡大学城北', 'line': ['北京地铁房山线'], 'nabours': ['良乡大学城', '广阳城']}, '良乡大学城': {'name': '良乡大学城', 'line': ['北京地铁房山线'], 'nabours': ['良乡大学城西', '良乡大学城北']}, '良乡大学城西': {'name': '良乡大学城西', 'line': ['北京地铁房山线'], 'nabours': ['良乡南关', '良乡大学城']}, '良乡南关': {'name': '良乡南关', 'line': ['北京地铁房山线'], 'nabours': ['苏庄', '良乡大学城西']}, '苏庄': {'name': '苏庄', 'line': ['北京地铁房山线'], 'nabours': ['阎村东', '良乡南关']}, '阎村东': {'name': '阎村东', 'line': ['北京地铁房山线', '北京地铁燕房线'], 'nabours': ['郭公庄', '紫草坞']}, '肖村': {'name': '肖村', 'line': ['北京地铁亦庄线'], 'nabours': ['小红门', '宋家庄']}, '小红门': {'name': '小红门', 'line': ['北京地铁亦庄线'], 'nabours': ['旧宫', '肖村']}, '旧宫': {'name': '旧宫', 'line': ['北京地铁亦庄线'], 'nabours': ['亦庄桥', '小红门']}, '亦庄桥': {'name': '亦庄桥', 'line': ['北京地铁亦庄线'], 'nabours': ['亦庄文化园', '旧宫']}, '亦庄文化园': {'name': '亦庄文化园', 'line': ['北京地铁亦庄线'], 'nabours': ['万源街', '亦庄桥']}, '万源街': {'name': '万源街', 'line': ['北京地铁亦庄线'], 'nabours': ['荣京东街', '亦庄文化园']}, '荣京东街': {'name': '荣京东街', 'line': ['北京地铁亦庄线'], 'nabours': ['荣昌东街', '万源街']}, '荣昌东街': {'name': '荣昌东街', 'line': ['北京地铁亦庄线'], 'nabours': ['同济南路', '荣京东街']}, '同济南路': {'name': '同济南路', 'line': ['北京地铁亦庄线'], 'nabours': ['经海路', '荣昌东街']}, '经海路': {'name': '经海路', 'line': ['北京地铁亦庄线'], 'nabours': ['次渠南', '同济南路']}, '次渠南': {'name': '次渠南', 'line': ['北京地铁亦庄线'], 'nabours': ['次渠', '经海路']}, '次渠': {'name': '次渠', 'line': ['北京地铁亦庄线'], 'nabours': ['亦庄火车站', '次渠南']}, '亦庄火车站': {'name': '亦庄火车站', 'line': ['北京地铁亦庄线'], 'nabours': ['宋家庄']}, '丰台科技园': {'name': '丰台科技园', 'line': ['北京地铁9号线'], 'nabours': ['科怡路', '郭公庄']}, '科怡路': {'name': '科怡路', 'line': ['北京地铁9号线'], 'nabours': ['丰台南路', '丰台科技园']}, '丰台南路': {'name': '丰台南路', 'line': ['北京地铁9号线'], 'nabours': ['丰台东大街', '科怡路']}, '丰台东大街': {'name': '丰台东大街', 'line': ['北京地铁9号线'], 'nabours': ['七里庄', '丰台南路']}, '七里庄': {'name': '七里庄', 'line': ['北京地铁9号线', '北京地铁14号线'], 'nabours': ['六里桥', '丰台东大街', '西局', '大井']}, '六里桥东': {'name': '六里桥东', 'line': ['北京地铁9号线'], 'nabours': ['北京西站', '六里桥']}, '北京西站': {'name': '北京西站', 'line': ['北京地铁9号线', '北京地铁7号线'], 'nabours': ['军事博物馆', '六里桥东', '湾子']}, '白堆子': {'name': '白堆子', 'line': ['北京地铁9号线'], 'nabours': ['白石桥南', '军事博物馆']}, '白石桥南': {'name': '白石桥南', 'line': ['北京地铁9号线', '北京地铁6号线'], 'nabours': ['国家图书馆', '白堆子', '车公庄西', '花园桥']}, '金安桥': {'name': '金安桥', 'line': ['北京地铁6号线', '北京地铁S1线'], 'nabours': ['苹果园', '四道桥']}, '杨庄': {'name': '杨庄', 'line': ['北京地铁6号线'], 'nabours': ['西黄村', '苹果园']}, '西黄村': {'name': '西黄村', 'line': ['北京地铁6号线'], 'nabours': ['廖公庄', '杨庄']}, '廖公庄': {'name': '廖公庄', 'line': ['北京地铁6号线'], 'nabours': ['田村', '西黄村']}, '田村': {'name': '田村', 'line': ['北京地铁6号线'], 'nabours': ['海淀五路居', '廖公庄']}, '海淀五路居': {'name': '海淀五路居', 'line': ['北京地铁6号线'], 'nabours': ['慈寿寺', '田村']}, '花园桥': {'name': '花园桥', 'line': ['北京地铁6号线'], 'nabours': ['白石桥南', '慈寿寺']}, '车公庄西': {'name': '车公庄西', 'line': ['北京地铁6号线'], 'nabours': ['车公庄', '白石桥南']}, '车公庄': {'name': '车公庄', 'line': ['北京地铁6号线', '北京地铁2号线'], 'nabours': ['平安里', '车公庄西', '阜成门', '西直门']}, '北海北': {'name': '北海北', 'line': ['北京地铁6号线'], 'nabours': ['南锣鼓巷', '平安里']}, '朝阳门': {'name': '朝阳门', 'line': ['北京地铁6号线', '北京地铁2号线'], 'nabours': ['东大桥', '东四', '东四十条', '建国门']}, '东大桥': {'name': '东大桥', 'line': ['北京地铁6号线'], 'nabours': ['呼家楼', '朝阳门']}, '金台路': {'name': '金台路', 'line': ['北京地铁6号线', '北京地铁14号线'], 'nabours': ['十里堡', '呼家楼', '朝阳公园', '大望路']}, '十里堡': {'name': '十里堡', 'line': ['北京地铁6号线'], 'nabours': ['青年路', '金台路']}, '青年路': {'name': '青年路', 'line': ['北京地铁6号线'], 'nabours': ['褡裢坡', '十里堡']}, '褡裢坡': {'name': '褡裢坡', 'line': ['北京地铁6号线'], 'nabours': ['黄渠', '青年路']}, '黄渠': {'name': '黄渠', 'line': ['北京地铁6号线'], 'nabours': ['常营', '褡裢坡']}, '常营': {'name': '常营', 'line': ['北京地铁6号线'], 'nabours': ['草房', '黄渠']}, '草房': {'name': '草房', 'line': ['北京地铁6号线'], 'nabours': ['物资学院路', '常营']}, '物资学院路': {'name': '物资学院路', 'line': ['北京地铁6号线'], 'nabours': ['通州北关', '草房']}, '通州北关': {'name': '通州北关', 'line': ['北京地铁6号线'], 'nabours': ['通运门', '物资学院路']}, '通运门': {'name': '通运门', 'line': ['北京地铁6号线'], 'nabours': ['北运河西', '通州北关']}, '北运河西': {'name': '北运河西', 'line': ['北京地铁6号线'], 'nabours': ['北运河东', '通运门']}, '北运河东': {'name': '北运河东', 'line': ['北京地铁6号线'], 'nabours': ['郝家府', '北运河西']}, '郝家府': {'name': '郝家府', 'line': ['北京地铁6号线'], 'nabours': ['东夏园', '北运河东']}, '东夏园': {'name': '东夏园', 'line': ['北京地铁6号线'], 'nabours': ['潞城', '郝家府']}, '潞城': {'name': '潞城', 'line': ['北京地铁6号线'], 'nabours': ['金安桥']}, '张郭庄': {'name': '张郭庄', 'line': ['北京地铁14号线'], 'nabours': ['园博园']}, '园博园': {'name': '园博园', 'line': ['北京地铁14号线'], 'nabours': ['大瓦窑', '张郭庄']}, '大瓦窑': {'name': '大瓦窑', 'line': ['北京地铁14号线'], 'nabours': ['郭庄子', '园博园']}, '郭庄子': {'name': '郭庄子', 'line': ['北京地铁14号线'], 'nabours': ['大井', '大瓦窑']}, '大井': {'name': '大井', 'line': ['北京地铁14号线'], 'nabours': ['七里庄', '郭庄子']}, '景泰': {'name': '景泰', 'line': ['北京地铁14号线'], 'nabours': ['蒲黄榆', '永定门外']}, '方庄': {'name': '方庄', 'line': ['北京地铁14号线'], 'nabours': ['十里河', '蒲黄榆']}, '北工大西门': {'name': '北工大西门', 'line': ['北京地铁14号线'], 'nabours': ['九龙山', '十里河']}, '九龙山': {'name': '九龙山', 'line': ['北京地铁14号线', '北京地铁7号线'], 'nabours': ['大望路', '北工大西门', '大郊亭', '双井']}, '朝阳公园': {'name': '朝阳公园', 'line': ['北京地铁14号线'], 'nabours': ['枣营', '金台路']}, '枣营': {'name': '枣营', 'line': ['北京地铁14号线'], 'nabours': ['东风北桥', '朝阳公园']}, '东风北桥': {'name': '东风北桥', 'line': ['北京地铁14号线'], 'nabours': ['将台', '枣营']}, '将台': {'name': '将台', 'line': ['北京地铁14号线'], 'nabours': ['望京南', '东风北桥']}, '望京南': {'name': '望京南', 'line': ['北京地铁14号线'], 'nabours': ['阜通', '将台']}, '阜通': {'name': '阜通', 'line': ['北京地铁14号线'], 'nabours': ['望京', '望京南']}, '东湖渠': {'name': '东湖渠', 'line': ['北京地铁14号线'], 'nabours': ['来广营', '望京']}, '来广营': {'name': '来广营', 'line': ['北京地铁14号线'], 'nabours': ['善各庄', '东湖渠']}, '善各庄': {'name': '善各庄', 'line': ['北京地铁14号线'], 'nabours': ['北京南站']}, '湾子': {'name': '湾子', 'line': ['北京地铁7号线'], 'nabours': ['达官营', '北京西站']}, '达官营': {'name': '达官营', 'line': ['北京地铁7号线'], 'nabours': ['广安门内', '湾子']}, '广安门内': {'name': '广安门内', 'line': ['北京地铁7号线'], 'nabours': ['菜市口', '达官营']}, '虎坊桥': {'name': '虎坊桥', 'line': ['北京地铁7号线'], 'nabours': ['珠市口', '菜市口']}, '桥湾': {'name': '桥湾', 'line': ['北京地铁7号线'], 'nabours': ['磁器口', '珠市口']}, '广渠门内': {'name': '广渠门内', 'line': ['北京地铁7号线'], 'nabours': ['广渠门外', '磁器口']}, '广渠门外': {'name': '广渠门外', 'line': ['北京地铁7号线'], 'nabours': ['双井', '广渠门内']}, '大郊亭': {'name': '大郊亭', 'line': ['北京地铁7号线'], 'nabours': ['百子湾', '九龙山']}, '百子湾': {'name': '百子湾', 'line': ['北京地铁7号线'], 'nabours': ['化工', '大郊亭']}, '化工': {'name': '化工', 'line': ['北京地铁7号线'], 'nabours': ['南楼梓庄', '百子湾']}, '南楼梓庄': {'name': '南楼梓庄', 'line': ['北京地铁7号线'], 'nabours': ['欢乐谷景区', '化工']}, '欢乐谷景区': {'name': '欢乐谷景区', 'line': ['北京地铁7号线'], 'nabours': ['垡头', '南楼梓庄']}, '垡头': {'name': '垡头', 'line': ['北京地铁7号线'], 'nabours': ['双合', '欢乐谷景区']}, '双合': {'name': '双合', 'line': ['北京地铁7号线'], 'nabours': ['焦化厂', '垡头']}, '焦化厂': {'name': '焦化厂', 'line': ['北京地铁7号线'], 'nabours': ['北京西站']}, '农大南路': {'name': '农大南路', 'line': ['北京地铁16号线'], 'nabours': ['马连洼', '西苑']}, '马连洼': {'name': '马连洼', 'line': ['北京地铁16号线'], 'nabours': ['西北旺', '农大南路']}, '西北旺': {'name': '西北旺', 'line': ['北京地铁16号线'], 'nabours': ['永丰南', '马连洼']}, '永丰南': {'name': '永丰南', 'line': ['北京地铁16号线'], 'nabours': ['永丰', '西北旺']}, '永丰': {'name': '永丰', 'line': ['北京地铁16号线'], 'nabours': ['屯佃', '永丰南']}, '屯佃': {'name': '屯佃', 'line': ['北京地铁16号线'], 'nabours': ['稻香湖路', '永丰']}, '稻香湖路': {'name': '稻香湖路', 'line': ['北京地铁16号线'], 'nabours': ['温阳路', '屯佃']}, '温阳路': {'name': '温阳路', 'line': ['北京地铁16号线'], 'nabours': ['北安河', '稻香湖路']}, '北安河': {'name': '北安河', 'line': ['北京地铁16号线'], 'nabours': ['西苑']}, '颐和园西门': {'name': '颐和园西门', 'line': ['北京地铁西郊线'], 'nabours': ['茶棚', '巴沟']}, '茶棚': {'name': '茶棚', 'line': ['北京地铁西郊线'], 'nabours': ['万安', '颐和园西门']}, '万安': {'name': '万安', 'line': ['北京地铁西郊线'], 'nabours': ['植物园', '茶棚']}, '植物园': {'name': '植物园', 'line': ['北京地铁西郊线'], 'nabours': ['香山', '万安']}, '香山': {'name': '香山', 'line': ['北京地铁西郊线'], 'nabours': ['巴沟']}, '四道桥': {'name': '四道桥', 'line': ['北京地铁S1线'], 'nabours': ['桥户营', '金安桥']}, '桥户营': {'name': '桥户营', 'line': ['北京地铁S1线'], 'nabours': ['上岸', '四道桥']}, '上岸': {'name': '上岸', 'line': ['北京地铁S1线'], 'nabours': ['栗园庄', '桥户营']}, '栗园庄': {'name': '栗园庄', 'line': ['北京地铁S1线'], 'nabours': ['小园', '上岸']}, '小园': {'name': '小园', 'line': ['北京地铁S1线'], 'nabours': ['石厂', '栗园庄']}, '石厂': {'name': '石厂', 'line': ['北京地铁S1线'], 'nabours': ['苹果园']}, '紫草坞': {'name': '紫草坞', 'line': ['北京地铁燕房线'], 'nabours': ['阎村', '阎村东']}, '阎村': {'name': '阎村', 'line': ['北京地铁燕房线'], 'nabours': ['星城', '紫草坞']}, '星城': {'name': '星城', 'line': ['北京地铁燕房线'], 'nabours': ['大石河东', '阎村']}, '大石河东': {'name': '大石河东', 'line': ['北京地铁燕房线'], 'nabours': ['马各庄', '星城']}, '马各庄': {'name': '马各庄', 'line': ['北京地铁燕房线'], 'nabours': ['饶乐府', '大石河东']}, '饶乐府': {'name': '饶乐府', 'line': ['北京地铁燕房线'], 'nabours': ['房山城关', '马各庄']}, '房山城关': {'name': '房山城关', 'line': ['北京地铁燕房线'], 'nabours': ['燕山', '饶乐府']}, '燕山': {'name': '燕山', 'line': ['北京地铁燕房线'], 'nabours': ['老城区', '房山城关']}, '老城区': {'name': '老城区', 'line': ['北京地铁燕房线'], 'nabours': ['顾册', '燕山']}, '顾册': {'name': '顾册', 'line': ['北京地铁燕房线'], 'nabours': ['周口店镇', '老城区']}, '周口店镇': {'name': '周口店镇', 'line': ['北京地铁燕房线'], 'nabours': ['阎村东']}, '阜成门': {'name': '阜成门', 'line': ['北京地铁2号线'], 'nabours': ['复兴门', '车公庄']}, '长椿街': {'name': '长椿街', 'line': ['北京地铁2号线'], 'nabours': ['宣武门', '复兴门']}, '和平门': {'name': '和平门', 'line': ['北京地铁2号线'], 'nabours': ['前门', '宣武门']}, '前门': {'name': '前门', 'line': ['北京地铁2号线'], 'nabours': ['崇文门', '和平门']}, '北京站': {'name': '北京站', 'line': ['北京地铁2号线'], 'nabours': ['建国门', '崇文门']}, '东四十条': {'name': '东四十条', 'line': ['北京地铁2号线'], 'nabours': ['东直门', '朝阳门']}, '安定门': {'name': '安定门', 'line': ['北京地铁2号线'], 'nabours': ['鼓楼大街', '雍和宫']}, '积水潭': {'name': '积水潭', 'line': ['北京地铁2号线'], 'nabours': ['鼓楼大街', '西直门']}}\n",
    "station_connection = {'苹果园': ['古城', '杨庄', '金安桥'], '古城': ['八角游乐园', '苹果园'], '八角游乐园': ['八宝山', '古城'], '八宝山': ['玉泉路', '八角游乐园'], '玉泉路': ['五棵松', '八宝山'], '五棵松': ['万寿路', '玉泉路'], '万寿路': ['公主坟', '五棵松'], '公主坟': ['军事博物馆', '万寿路', '西钓鱼台', '莲花桥'], '军事博物馆': ['木樨地', '公主坟', '白堆子', '北京西站'], '木樨地': ['南礼士路', '军事博物馆'], '南礼士路': ['复兴门', '木樨地'], '复兴门': ['西单', '南礼士路', '长椿街', '阜成门'], '西单': ['天安门西', '复兴门', '宣武门', '灵境胡同'], '天安门西': ['天安门东', '西单'], '天安门东': ['王府井', '天安门西'], '王府井': ['东单', '天安门东'], '东单': ['建国门', '王府井', '灯市口', '崇文门'], '建国门': ['永安里', '东单', '朝阳门', '北京站'], '永安里': ['国贸', '建国门'], '国贸': ['大望路', '永安里', '双井', '金台夕照'], '大望路': ['四惠', '国贸', '金台路', '九龙山'], '四惠': ['四惠东', '大望路'], '四惠东': ['苹果园', '高碑店', '四惠'], '西直门': ['明光桥西', '新街口', '动物园', '车公庄', '积水潭'], '明光桥西': ['大钟寺', '西直门'], '大钟寺': ['知春路', '明光桥西'], '知春路': ['五道口', '大钟寺', '西土城', '知春里'], '五道口': ['清华东路西口', '知春路'], '清华东路西口': ['上地', '五道口', '俸伯'], '上地': ['清河', '清华东路西口'], '清河': ['西二旗', '上地'], '西二旗': ['龙泽', '清河', '昌平西山口'], '龙泽': ['回龙观', '西二旗'], '回龙观': ['霍营', '龙泽'], '霍营': ['建材城东路', '回龙观', '育新', '回龙观东大街'], '建材城东路': ['立水桥', '霍营'], '立水桥': ['北苑', '建材城东路', '天通苑南', '立水桥南'], '北苑': ['来广营西', '立水桥'], '来广营西': ['望京西', '北苑'], '望京西': ['望和桥', '来广营西', '关庄', '望京'], '望和桥': ['芍药居', '望京西'], '芍药居': ['光熙门', '望和桥', '太阳宫', '惠新西街南口'], '光熙门': ['柳芳', '芍药居'], '柳芳': ['东直门', '光熙门'], '东直门': ['西直门', '三元桥', '雍和宫', '东四十条'], '高碑店': ['传媒大学', '四惠东'], '传媒大学': ['双桥', '高碑店'], '双桥': ['管庄', '传媒大学'], '管庄': ['八里桥', '双桥'], '八里桥': ['通州北苑', '管庄'], '通州北苑': ['果园', '八里桥'], '果园': ['九棵树', '通州北苑'], '九棵树': ['梨园', '果园'], '梨园': ['临河里', '九棵树'], '临河里': ['土桥', '梨园'], '土桥': ['四惠'], '宋家庄': ['刘家窑', '石榴庄', '成寿寺', '肖村'], '刘家窑': ['蒲黄榆', '宋家庄'], '蒲黄榆': ['天坛东门', '刘家窑', '方庄', '景泰'], '天坛东门': ['磁器口', '蒲黄榆'], '磁器口': ['崇文门', '天坛东门', '广渠门内', '桥湾'], '崇文门': ['东单', '磁器口', '北京站', '前门'], '灯市口': ['东四', '东单'], '东四': ['张自忠路', '灯市口', '朝阳门', '南锣鼓巷'], '张自忠路': ['北新桥', '东四'], '北新桥': ['雍和宫', '张自忠路'], '雍和宫': ['和平里北街', '北新桥', '安定门', '东直门'], '和平里北街': ['和平西桥', '雍和宫'], '和平西桥': ['惠新西街南口', '和平里北街'], '惠新西街南口': ['惠新西街北口', '和平西桥', '芍药居', '安贞门'], '惠新西街北口': ['大屯路东', '惠新西街南口'], '大屯路东': ['北苑路北', '惠新西街北口', '安立路', '关庄'], '北苑路北': ['立水桥南', '大屯路东'], '立水桥南': ['立水桥', '北苑路北'], '天通苑南': ['天通苑', '立水桥'], '天通苑': ['天通苑北', '天通苑南'], '天通苑北': ['宋家庄'], '朱辛庄': ['育知路', '生命科学园', '巩华城'], '育知路': ['平西府', '朱辛庄'], '平西府': ['回龙观东大街', '育知路'], '回龙观东大街': ['霍营', '平西府'], '育新': ['西小口', '霍营'], '西小口': ['永泰庄', '育新'], '永泰庄': ['林萃桥', '西小口'], '林萃桥': ['森林公园南门', '永泰庄'], '森林公园南门': ['奥林匹克公园', '林萃桥'], '奥林匹克公园': ['奥体中心', '森林公园南门', '北沙滩', '安立路'], '奥体中心': ['北土城', '奥林匹克公园'], '北土城': ['安华桥', '奥体中心', '安贞门', '健德门'], '安华桥': ['安德里北街', '北土城'], '安德里北街': ['鼓楼大街', '安华桥'], '鼓楼大街': ['什刹海', '安德里北街', '积水潭', '安定门'], '什刹海': ['南锣鼓巷', '鼓楼大街'], '南锣鼓巷': ['中国美术馆', '什刹海', '东四', '北海北'], '中国美术馆': ['朱辛庄'], '瀛海': ['德茂'], '德茂': ['五福堂', '瀛海'], '五福堂': ['火箭万源', '德茂'], '火箭万源': ['东高地', '五福堂'], '东高地': ['和义', '火箭万源'], '和义': ['大红门南', '东高地'], '大红门南': ['大红门', '和义'], '大红门': ['海户屯', '大红门南', '角门东', '石榴庄'], '海户屯': ['木樨园', '大红门'], '木樨园': ['永定门外', '海户屯'], '永定门外': ['天桥', '木樨园', '景泰', '北京南站'], '天桥': ['珠市口', '永定门外'], '珠市口': ['瀛海', '桥湾', '虎坊桥'], '巴沟': ['苏州街', '火器营', '颐和园西门'], '苏州街': ['海淀黄庄', '巴沟'], '海淀黄庄': ['知春里', '苏州街', '人民大学', '中关村'], '知春里': ['知春路', '海淀黄庄'], '西土城': ['牡丹园', '知春路'], '牡丹园': ['健德门', '西土城'], '健德门': ['北土城', '牡丹园'], '安贞门': ['惠新西街南口', '北土城'], '太阳宫': ['三元桥', '芍药居'], '三元桥': ['亮马桥', '太阳宫', '3号航站楼', '东直门'], '亮马桥': ['农业展览馆', '三元桥'], '农业展览馆': ['团结湖', '亮马桥'], '团结湖': ['呼家楼', '农业展览馆'], '呼家楼': ['金台夕照', '团结湖', '金台路', '东大桥'], '金台夕照': ['国贸', '呼家楼'], '双井': ['劲松', '国贸', '九龙山', '广渠门外'], '劲松': ['潘家园', '双井'], '潘家园': ['十里河', '劲松'], '十里河': ['分钟寺', '潘家园', '北工大西门', '方庄'], '分钟寺': ['成寿寺', '十里河'], '成寿寺': ['宋家庄', '分钟寺'], '石榴庄': ['大红门', '宋家庄'], '角门东': ['角门西', '大红门'], '角门西': ['草桥', '角门东', '公益西桥', '马家堡'], '草桥': ['纪家庙', '角门西'], '纪家庙': ['首经贸', '草桥'], '首经贸': ['丰台', '纪家庙'], '丰台': ['泥洼', '首经贸'], '泥洼': ['西局', '丰台'], '西局': ['六里桥', '泥洼', '张郭庄'], '六里桥': ['莲花桥', '西局', '六里桥东', '七里庄'], '莲花桥': ['公主坟', '六里桥'], '西钓鱼台': ['慈寿寺', '公主坟'], '慈寿寺': ['车道沟', '西钓鱼台', '花园桥', '海淀五路居'], '车道沟': ['长春桥', '慈寿寺'], '长春桥': ['火器营', '车道沟'], '火器营': ['长春桥', '巴沟'], '3号航站楼': ['2号航站楼', '三元桥'], '2号航站楼': ['东直门'], '安河桥北': ['北宫门'], '北宫门': ['西苑', '安河桥北'], '西苑': ['圆明园', '北宫门', '农大南路'], '圆明园': ['北京大学东门', '西苑'], '北京大学东门': ['中关村', '圆明园'], '中关村': ['海淀黄庄', '北京大学东门'], '人民大学': ['魏公村', '海淀黄庄'], '魏公村': ['国家图书馆', '人民大学'], '国家图书馆': ['动物园', '魏公村', '郭公庄'], '动物园': ['西直门', '国家图书馆'], '新街口': ['平安里', '西直门'], '平安里': ['西四', '新街口', '北海北', '车公庄'], '西四': ['灵境胡同', '平安里'], '灵境胡同': ['西单', '西四'], '宣武门': ['菜市口', '西单', '和平门', '长椿街'], '菜市口': ['陶然亭', '宣武门', '虎坊桥', '广安门内'], '陶然亭': ['北京南站', '菜市口'], '北京南站': ['马家堡', '陶然亭', '永定门外'], '马家堡': ['角门西', '北京南站'], '公益西桥': ['安河桥北', '新宫'], '俸伯': ['顺义'], '顺义': ['石门', '俸伯'], '石门': ['南法信', '顺义'], '南法信': ['后沙峪', '石门'], '后沙峪': ['花梨坎', '南法信'], '花梨坎': ['国展', '后沙峪'], '国展': ['孙河', '花梨坎'], '孙河': ['马泉营', '国展'], '马泉营': ['崔各庄', '孙河'], '崔各庄': ['望京东', '马泉营'], '望京东': ['望京', '崔各庄'], '望京': ['望京西', '望京东', '东湖渠', '阜通'], '关庄': ['大屯路东', '望京西'], '安立路': ['奥林匹克公园', '大屯路东'], '北沙滩': ['六道口', '奥林匹克公园'], '六道口': ['清华东路西口', '北沙滩'], '昌平西山口': ['十三陵景区'], '十三陵景区': ['昌平', '昌平西山口'], '昌平': ['昌平东关', '十三陵景区'], '昌平东关': ['北邵洼', '昌平'], '北邵洼': ['南邵', '昌平东关'], '南邵': ['沙河高教园', '北邵洼'], '沙河高教园': ['沙河', '南邵'], '沙河': ['巩华城', '沙河高教园'], '巩华城': ['朱辛庄', '沙河'], '生命科学园': ['西二旗', '朱辛庄'], '新宫': ['西红门', '公益西桥'], '西红门': ['高米店北', '新宫'], '高米店北': ['高米店南', '西红门'], '高米店南': ['枣园', '高米店北'], '枣园': ['清源路', '高米店南'], '清源路': ['黄村西大街', '枣园'], '黄村西大街': ['黄村火车站', '清源路'], '黄村火车站': ['义和庄', '黄村西大街'], '义和庄': ['生物医药基地', '黄村火车站'], '生物医药基地': ['公益西桥'], '郭公庄': ['大葆台', '丰台科技园'], '大葆台': ['稻田', '郭公庄'], '稻田': ['长阳', '大葆台'], '长阳': ['篱笆房', '稻田'], '篱笆房': ['广阳城', '长阳'], '广阳城': ['良乡大学城北', '篱笆房'], '良乡大学城北': ['良乡大学城', '广阳城'], '良乡大学城': ['良乡大学城西', '良乡大学城北'], '良乡大学城西': ['良乡南关', '良乡大学城'], '良乡南关': ['苏庄', '良乡大学城西'], '苏庄': ['阎村东', '良乡南关'], '阎村东': ['郭公庄', '紫草坞'], '肖村': ['小红门', '宋家庄'], '小红门': ['旧宫', '肖村'], '旧宫': ['亦庄桥', '小红门'], '亦庄桥': ['亦庄文化园', '旧宫'], '亦庄文化园': ['万源街', '亦庄桥'], '万源街': ['荣京东街', '亦庄文化园'], '荣京东街': ['荣昌东街', '万源街'], '荣昌东街': ['同济南路', '荣京东街'], '同济南路': ['经海路', '荣昌东街'], '经海路': ['次渠南', '同济南路'], '次渠南': ['次渠', '经海路'], '次渠': ['亦庄火车站', '次渠南'], '亦庄火车站': ['宋家庄'], '丰台科技园': ['科怡路', '郭公庄'], '科怡路': ['丰台南路', '丰台科技园'], '丰台南路': ['丰台东大街', '科怡路'], '丰台东大街': ['七里庄', '丰台南路'], '七里庄': ['六里桥', '丰台东大街', '西局', '大井'], '六里桥东': ['北京西站', '六里桥'], '北京西站': ['军事博物馆', '六里桥东', '湾子'], '白堆子': ['白石桥南', '军事博物馆'], '白石桥南': ['国家图书馆', '白堆子', '车公庄西', '花园桥'], '金安桥': ['苹果园', '四道桥'], '杨庄': ['西黄村', '苹果园'], '西黄村': ['廖公庄', '杨庄'], '廖公庄': ['田村', '西黄村'], '田村': ['海淀五路居', '廖公庄'], '海淀五路居': ['慈寿寺', '田村'], '花园桥': ['白石桥南', '慈寿寺'], '车公庄西': ['车公庄', '白石桥南'], '车公庄': ['平安里', '车公庄西', '阜成门', '西直门'], '北海北': ['南锣鼓巷', '平安里'], '朝阳门': ['东大桥', '东四', '东四十条', '建国门'], '东大桥': ['呼家楼', '朝阳门'], '金台路': ['十里堡', '呼家楼', '朝阳公园', '大望路'], '十里堡': ['青年路', '金台路'], '青年路': ['褡裢坡', '十里堡'], '褡裢坡': ['黄渠', '青年路'], '黄渠': ['常营', '褡裢坡'], '常营': ['草房', '黄渠'], '草房': ['物资学院路', '常营'], '物资学院路': ['通州北关', '草房'], '通州北关': ['通运门', '物资学院路'], '通运门': ['北运河西', '通州北关'], '北运河西': ['北运河东', '通运门'], '北运河东': ['郝家府', '北运河西'], '郝家府': ['东夏园', '北运河东'], '东夏园': ['潞城', '郝家府'], '潞城': ['金安桥'], '张郭庄': ['园博园'], '园博园': ['大瓦窑', '张郭庄'], '大瓦窑': ['郭庄子', '园博园'], '郭庄子': ['大井', '大瓦窑'], '大井': ['七里庄', '郭庄子'], '景泰': ['蒲黄榆', '永定门外'], '方庄': ['十里河', '蒲黄榆'], '北工大西门': ['九龙山', '十里河'], '九龙山': ['大望路', '北工大西门', '大郊亭', '双井'], '朝阳公园': ['枣营', '金台路'], '枣营': ['东风北桥', '朝阳公园'], '东风北桥': ['将台', '枣营'], '将台': ['望京南', '东风北桥'], '望京南': ['阜通', '将台'], '阜通': ['望京', '望京南'], '东湖渠': ['来广营', '望京'], '来广营': ['善各庄', '东湖渠'], '善各庄': ['北京南站'], '湾子': ['达官营', '北京西站'], '达官营': ['广安门内', '湾子'], '广安门内': ['菜市口', '达官营'], '虎坊桥': ['珠市口', '菜市口'], '桥湾': ['磁器口', '珠市口'], '广渠门内': ['广渠门外', '磁器口'], '广渠门外': ['双井', '广渠门内'], '大郊亭': ['百子湾', '九龙山'], '百子湾': ['化工', '大郊亭'], '化工': ['南楼梓庄', '百子湾'], '南楼梓庄': ['欢乐谷景区', '化工'], '欢乐谷景区': ['垡头', '南楼梓庄'], '垡头': ['双合', '欢乐谷景区'], '双合': ['焦化厂', '垡头'], '焦化厂': ['北京西站'], '农大南路': ['马连洼', '西苑'], '马连洼': ['西北旺', '农大南路'], '西北旺': ['永丰南', '马连洼'], '永丰南': ['永丰', '西北旺'], '永丰': ['屯佃', '永丰南'], '屯佃': ['稻香湖路', '永丰'], '稻香湖路': ['温阳路', '屯佃'], '温阳路': ['北安河', '稻香湖路'], '北安河': ['西苑'], '颐和园西门': ['茶棚', '巴沟'], '茶棚': ['万安', '颐和园西门'], '万安': ['植物园', '茶棚'], '植物园': ['香山', '万安'], '香山': ['巴沟'], '四道桥': ['桥户营', '金安桥'], '桥户营': ['上岸', '四道桥'], '上岸': ['栗园庄', '桥户营'], '栗园庄': ['小园', '上岸'], '小园': ['石厂', '栗园庄'], '石厂': ['苹果园'], '紫草坞': ['阎村', '阎村东'], '阎村': ['星城', '紫草坞'], '星城': ['大石河东', '阎村'], '大石河东': ['马各庄', '星城'], '马各庄': ['饶乐府', '大石河东'], '饶乐府': ['房山城关', '马各庄'], '房山城关': ['燕山', '饶乐府'], '燕山': ['老城区', '房山城关'], '老城区': ['顾册', '燕山'], '顾册': ['周口店镇', '老城区'], '周口店镇': ['阎村东'], '阜成门': ['复兴门', '车公庄'], '长椿街': ['宣武门', '复兴门'], '和平门': ['前门', '宣武门'], '前门': ['崇文门', '和平门'], '北京站': ['建国门', '崇文门'], '东四十条': ['东直门', '朝阳门'], '安定门': ['鼓楼大街', '雍和宫'], '积水潭': ['鼓楼大街', '西直门']}\n",
    "\n",
    "\n",
    "def search(start, destination, connection_grpah, sort_candidate):\n",
    "    find_ways = []\n",
    "    pathes = [[start]]\n",
    "    visitied = set()\n",
    "\n",
    "    while pathes:  # if we find existing pathes\n",
    "        path = pathes.pop(0)\n",
    "        froninter = path[-1]\n",
    "        # print('path {}'.format(path))\n",
    "        if froninter in visitied: continue\n",
    "\n",
    "        successors = connection_grpah[froninter]\n",
    "        for city in successors:\n",
    "            if city in path: continue\n",
    "            new_path = path + [city]        #广度优先，其实默认了按照乘坐站点数目最少来排序的\n",
    "\n",
    "            if city == destination:\n",
    "                find_ways.append(new_path)  # 把可能的路线结果放到字典find_ways中\n",
    "                continue\n",
    "            pathes.append(new_path)\n",
    "\n",
    "        visitied.add(froninter)\n",
    "        # pathes = sort_candidate(pathes)  # 线路排序放外面\n",
    "\n",
    "    print('all different ways with min stations that cannot repeat:')\n",
    "    for f in find_ways:\n",
    "        print(f)\n",
    "\n",
    "    return (sort_candidate(find_ways)[0])\n",
    "\n",
    "\n",
    "def least_stations_first(ways):   #策略1  乘坐站点最少\n",
    "    return sorted(ways, key=len)\n",
    "\n",
    "\n",
    "def transfer_least_first(ways):   #策略2  换乘站点最少  还没有想好\n",
    "    '''\n",
    "    for each_path in ways:\n",
    "        all_transfer_lines = []\n",
    "        transfer_count = 1\n",
    "\n",
    "        for i, each_station in enumerate(each_path):\n",
    "            if i == 0 or i == (len(each_path) - 1):\n",
    "                transfer_count += 0\n",
    "                continue\n",
    "            elif len(rail_way_graph[each_station]['line']) > 1:\n",
    "                transfer_count += 1\n",
    "\n",
    "        each_path.append(transfer_count)\n",
    "        # print(each_path)\n",
    "    sorted(ways, key=lambda x: x[-1])\n",
    "    print(ways[0])\n",
    "    return sorted([path[:-1] for path in ways])\n",
    "    '''\n",
    "    pass\n",
    "\n",
    "def inter_change(ways):  #策略3  指定中转站\n",
    "    pass\n",
    "\n",
    "\n",
    "if __name__ == '__main__':\n",
    "    print('---least_stations_first---\\n The best way is: {}'.format(\n",
    "        search('北京南站', '珠市口', station_connection, sort_candidate=least_stations_first)))\n",
    "\n",
    "\n",
    "\n"
   ]
  },
  {
   "cell_type": "markdown",
   "metadata": {},
   "source": [
    "##### 5.\tTest your result with commercial applications. \n",
    "\n",
    "将你的结果和高德地图或者百度地图进行比较，如果有不同，请分析原因\n"
   ]
  },
  {
   "cell_type": "markdown",
   "metadata": {},
   "source": [
    "恭喜，完成本次课程，你对常用的人工智能方法以及有一定的了解了。基于规则的，基于概率模型的，基于搜索的，基于机器学习的。 可以说，我们现在通常见到的方法都能够归属到这几类方法中。 这就是**人工智能**，并没有很难是吧？ 继续加油！"
   ]
  },
  {
   "cell_type": "markdown",
   "metadata": {},
   "source": [
    "![](https://timgsa.baidu.com/timg?image&quality=80&size=b9999_10000&sec=1562415163815&di=4b29a2a863a8285212033760f288ed7a&imgtype=0&src=http%3A%2F%2F5b0988e595225.cdn.sohucs.com%2Fimages%2F20180710%2F8704194a1d7f46a383ddc29d40c9bca5.jpeg)"
   ]
  }
 ],
 "metadata": {
  "kernelspec": {
   "display_name": "Python 3",
   "language": "python",
   "name": "python3"
  },
  "language_info": {
   "codemirror_mode": {
    "name": "ipython",
    "version": 3
   },
   "file_extension": ".py",
   "mimetype": "text/x-python",
   "name": "python",
   "nbconvert_exporter": "python",
   "pygments_lexer": "ipython3",
   "version": "3.7.3"
  }
 },
 "nbformat": 4,
 "nbformat_minor": 2
}
